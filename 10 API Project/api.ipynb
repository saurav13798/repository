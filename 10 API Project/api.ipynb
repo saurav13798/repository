{
 "cells": [
  {
   "cell_type": "markdown",
   "metadata": {},
   "source": [
    "# PROJECT 2 - STOCK MARKET API PROJECT"
   ]
  },
  {
   "cell_type": "code",
   "execution_count": 5,
   "metadata": {},
   "outputs": [
    {
     "name": "stdout",
     "output_type": "stream",
     "text": [
      "Defaulting to user installation because normal site-packages is not writeable\n",
      "Requirement already satisfied: python-dotenv in c:\\users\\saurav mali\\appdata\\local\\packages\\pythonsoftwarefoundation.python.3.12_qbz5n2kfra8p0\\localcache\\local-packages\\python312\\site-packages (1.0.1)\n",
      "Requirement already satisfied: plotly in c:\\users\\saurav mali\\appdata\\local\\packages\\pythonsoftwarefoundation.python.3.12_qbz5n2kfra8p0\\localcache\\local-packages\\python312\\site-packages (6.0.0)\n",
      "Requirement already satisfied: nbformat in c:\\users\\saurav mali\\appdata\\local\\packages\\pythonsoftwarefoundation.python.3.12_qbz5n2kfra8p0\\localcache\\local-packages\\python312\\site-packages (5.10.4)\n",
      "Requirement already satisfied: narwhals>=1.15.1 in c:\\users\\saurav mali\\appdata\\local\\packages\\pythonsoftwarefoundation.python.3.12_qbz5n2kfra8p0\\localcache\\local-packages\\python312\\site-packages (from plotly) (1.26.0)\n",
      "Requirement already satisfied: packaging in c:\\users\\saurav mali\\appdata\\local\\packages\\pythonsoftwarefoundation.python.3.12_qbz5n2kfra8p0\\localcache\\local-packages\\python312\\site-packages (from plotly) (24.2)\n",
      "Requirement already satisfied: fastjsonschema>=2.15 in c:\\users\\saurav mali\\appdata\\local\\packages\\pythonsoftwarefoundation.python.3.12_qbz5n2kfra8p0\\localcache\\local-packages\\python312\\site-packages (from nbformat) (2.21.1)\n",
      "Requirement already satisfied: jsonschema>=2.6 in c:\\users\\saurav mali\\appdata\\local\\packages\\pythonsoftwarefoundation.python.3.12_qbz5n2kfra8p0\\localcache\\local-packages\\python312\\site-packages (from nbformat) (4.23.0)\n",
      "Requirement already satisfied: jupyter-core!=5.0.*,>=4.12 in c:\\users\\saurav mali\\appdata\\local\\packages\\pythonsoftwarefoundation.python.3.12_qbz5n2kfra8p0\\localcache\\local-packages\\python312\\site-packages (from nbformat) (5.7.2)\n",
      "Requirement already satisfied: traitlets>=5.1 in c:\\users\\saurav mali\\appdata\\local\\packages\\pythonsoftwarefoundation.python.3.12_qbz5n2kfra8p0\\localcache\\local-packages\\python312\\site-packages (from nbformat) (5.14.3)\n",
      "Requirement already satisfied: attrs>=22.2.0 in c:\\users\\saurav mali\\appdata\\local\\packages\\pythonsoftwarefoundation.python.3.12_qbz5n2kfra8p0\\localcache\\local-packages\\python312\\site-packages (from jsonschema>=2.6->nbformat) (25.1.0)\n",
      "Requirement already satisfied: jsonschema-specifications>=2023.03.6 in c:\\users\\saurav mali\\appdata\\local\\packages\\pythonsoftwarefoundation.python.3.12_qbz5n2kfra8p0\\localcache\\local-packages\\python312\\site-packages (from jsonschema>=2.6->nbformat) (2024.10.1)\n",
      "Requirement already satisfied: referencing>=0.28.4 in c:\\users\\saurav mali\\appdata\\local\\packages\\pythonsoftwarefoundation.python.3.12_qbz5n2kfra8p0\\localcache\\local-packages\\python312\\site-packages (from jsonschema>=2.6->nbformat) (0.36.2)\n",
      "Requirement already satisfied: rpds-py>=0.7.1 in c:\\users\\saurav mali\\appdata\\local\\packages\\pythonsoftwarefoundation.python.3.12_qbz5n2kfra8p0\\localcache\\local-packages\\python312\\site-packages (from jsonschema>=2.6->nbformat) (0.22.3)\n",
      "Requirement already satisfied: platformdirs>=2.5 in c:\\users\\saurav mali\\appdata\\local\\packages\\pythonsoftwarefoundation.python.3.12_qbz5n2kfra8p0\\localcache\\local-packages\\python312\\site-packages (from jupyter-core!=5.0.*,>=4.12->nbformat) (4.3.6)\n",
      "Requirement already satisfied: pywin32>=300 in c:\\users\\saurav mali\\appdata\\local\\packages\\pythonsoftwarefoundation.python.3.12_qbz5n2kfra8p0\\localcache\\local-packages\\python312\\site-packages (from jupyter-core!=5.0.*,>=4.12->nbformat) (308)\n",
      "Requirement already satisfied: typing-extensions>=4.4.0 in c:\\users\\saurav mali\\appdata\\local\\packages\\pythonsoftwarefoundation.python.3.12_qbz5n2kfra8p0\\localcache\\local-packages\\python312\\site-packages (from referencing>=0.28.4->jsonschema>=2.6->nbformat) (4.12.2)\n",
      "Note: you may need to restart the kernel to use updated packages.\n"
     ]
    }
   ],
   "source": [
    "%pip install python-dotenv plotly nbformat"
   ]
  },
  {
   "cell_type": "markdown",
   "metadata": {},
   "source": [
    "### Load the API key from .env file"
   ]
  },
  {
   "cell_type": "code",
   "execution_count": 6,
   "metadata": {},
   "outputs": [
    {
     "data": {
      "text/plain": [
       "True"
      ]
     },
     "execution_count": 6,
     "metadata": {},
     "output_type": "execute_result"
    }
   ],
   "source": [
    "from dotenv import load_dotenv\n",
    "load_dotenv()"
   ]
  },
  {
   "cell_type": "code",
   "execution_count": 7,
   "metadata": {},
   "outputs": [],
   "source": [
    "import os\n",
    "api_key = os.getenv(\"API_KEY\")"
   ]
  },
  {
   "cell_type": "markdown",
   "metadata": {},
   "source": [
    "### 1. Get the vompany stock symbol"
   ]
  },
  {
   "cell_type": "code",
   "execution_count": 8,
   "metadata": {},
   "outputs": [
    {
     "data": {
      "text/plain": [
       "{'bestMatches': [{'1. symbol': 'SBIN.BSE',\n",
       "   '2. name': 'State Bank of India',\n",
       "   '3. type': 'Equity',\n",
       "   '4. region': 'India/Bombay',\n",
       "   '5. marketOpen': '09:15',\n",
       "   '6. marketClose': '15:30',\n",
       "   '7. timezone': 'UTC+5.5',\n",
       "   '8. currency': 'INR',\n",
       "   '9. matchScore': '1.0000'},\n",
       "  {'1. symbol': 'SBKFF',\n",
       "   '2. name': 'State Bank of India',\n",
       "   '3. type': 'Equity',\n",
       "   '4. region': 'United States',\n",
       "   '5. marketOpen': '09:30',\n",
       "   '6. marketClose': '16:00',\n",
       "   '7. timezone': 'UTC-04',\n",
       "   '8. currency': 'USD',\n",
       "   '9. matchScore': '1.0000'},\n",
       "  {'1. symbol': 'SID.FRK',\n",
       "   '2. name': 'State Bank of India',\n",
       "   '3. type': 'Equity',\n",
       "   '4. region': 'Frankfurt',\n",
       "   '5. marketOpen': '08:00',\n",
       "   '6. marketClose': '20:00',\n",
       "   '7. timezone': 'UTC+02',\n",
       "   '8. currency': 'EUR',\n",
       "   '9. matchScore': '1.0000'},\n",
       "  {'1. symbol': 'SBID.LON',\n",
       "   '2. name': 'State Bank of India GDR',\n",
       "   '3. type': 'Equity',\n",
       "   '4. region': 'United Kingdom',\n",
       "   '5. marketOpen': '08:00',\n",
       "   '6. marketClose': '16:30',\n",
       "   '7. timezone': 'UTC+01',\n",
       "   '8. currency': 'USD',\n",
       "   '9. matchScore': '0.9048'}]}"
      ]
     },
     "execution_count": 8,
     "metadata": {},
     "output_type": "execute_result"
    }
   ],
   "source": [
    "import requests\n",
    "\n",
    "url = \"https://alpha-vantage.p.rapidapi.com/query\"\n",
    "\n",
    "querystring = {\"datatype\":\"json\",\"keywords\":\"State Bank Of India\",\"function\":\"SYMBOL_SEARCH\"}\n",
    "\n",
    "headers = {\n",
    "\t\"x-rapidapi-key\": api_key,\n",
    "\t\"x-rapidapi-host\": \"alpha-vantage.p.rapidapi.com\"\n",
    "}\n",
    "\n",
    "response = requests.get(url, headers=headers, params=querystring)\n",
    "\n",
    "response.json()"
   ]
  },
  {
   "cell_type": "markdown",
   "metadata": {},
   "source": [
    "### Get daily stock details for SBIN.BSE"
   ]
  },
  {
   "cell_type": "code",
   "execution_count": 9,
   "metadata": {},
   "outputs": [],
   "source": [
    "import requests\n",
    "\n",
    "url = \"https://alpha-vantage.p.rapidapi.com/query\"\n",
    "\n",
    "querystring = {\"function\":\"TIME_SERIES_DAILY\",\"symbol\":\"SBIN.BSE\",\"outputsize\":\"compact\",\"datatype\":\"json\"}\n",
    "\n",
    "headers = {\n",
    "\t\"x-rapidapi-key\": api_key,\n",
    "\t\"x-rapidapi-host\": \"alpha-vantage.p.rapidapi.com\"\n",
    "}\n",
    "\n",
    "response = requests.get(url, headers=headers, params=querystring)\n",
    "\n",
    "data = response.json()"
   ]
  },
  {
   "cell_type": "code",
   "execution_count": 10,
   "metadata": {},
   "outputs": [
    {
     "data": {
      "text/plain": [
       "{'Meta Data': {'1. Information': 'Daily Prices (open, high, low, close) and Volumes',\n",
       "  '2. Symbol': 'SBIN.BSE',\n",
       "  '3. Last Refreshed': '2025-02-11',\n",
       "  '4. Output Size': 'Compact',\n",
       "  '5. Time Zone': 'US/Eastern'},\n",
       " 'Time Series (Daily)': {'2025-02-11': {'1. open': '738.1500',\n",
       "   '2. high': '740.0000',\n",
       "   '3. low': '726.9000',\n",
       "   '4. close': '731.0000',\n",
       "   '5. volume': '826170'},\n",
       "  '2025-02-10': {'1. open': '740.5500',\n",
       "   '2. high': '744.0500',\n",
       "   '3. low': '733.6000',\n",
       "   '4. close': '736.8500',\n",
       "   '5. volume': '788061'},\n",
       "  '2025-02-07': {'1. open': '761.8000',\n",
       "   '2. high': '761.8000',\n",
       "   '3. low': '732.0500',\n",
       "   '4. close': '737.0500',\n",
       "   '5. volume': '1805880'},\n",
       "  '2025-02-06': {'1. open': '769.6500',\n",
       "   '2. high': '770.9500',\n",
       "   '3. low': '750.0000',\n",
       "   '4. close': '752.3500',\n",
       "   '5. volume': '1384322'},\n",
       "  '2025-02-05': {'1. open': '780.8000',\n",
       "   '2. high': '781.6000',\n",
       "   '3. low': '764.6500',\n",
       "   '4. close': '766.1000',\n",
       "   '5. volume': '654303'},\n",
       "  '2025-02-04': {'1. open': '766.3000',\n",
       "   '2. high': '780.8500',\n",
       "   '3. low': '766.0000',\n",
       "   '4. close': '779.2000',\n",
       "   '5. volume': '749753'},\n",
       "  '2025-02-03': {'1. open': '763.6500',\n",
       "   '2. high': '763.6500',\n",
       "   '3. low': '753.4500',\n",
       "   '4. close': '761.0000',\n",
       "   '5. volume': '427934'},\n",
       "  '2025-01-31': {'1. open': '765.0000',\n",
       "   '2. high': '777.7500',\n",
       "   '3. low': '759.3500',\n",
       "   '4. close': '773.1000',\n",
       "   '5. volume': '241965'},\n",
       "  '2025-01-30': {'1. open': '759.4000',\n",
       "   '2. high': '764.8500',\n",
       "   '3. low': '754.7000',\n",
       "   '4. close': '762.2000',\n",
       "   '5. volume': '618809'},\n",
       "  '2025-01-29': {'1. open': '752.5000',\n",
       "   '2. high': '760.2500',\n",
       "   '3. low': '749.8000',\n",
       "   '4. close': '758.7000',\n",
       "   '5. volume': '379821'},\n",
       "  '2025-01-28': {'1. open': '756.2000',\n",
       "   '2. high': '759.6000',\n",
       "   '3. low': '745.6500',\n",
       "   '4. close': '751.6500',\n",
       "   '5. volume': '794022'},\n",
       "  '2025-01-27': {'1. open': '740.0000',\n",
       "   '2. high': '755.3000',\n",
       "   '3. low': '736.0000',\n",
       "   '4. close': '749.2000',\n",
       "   '5. volume': '775011'},\n",
       "  '2025-01-24': {'1. open': '747.2000',\n",
       "   '2. high': '753.7500',\n",
       "   '3. low': '738.8500',\n",
       "   '4. close': '744.3500',\n",
       "   '5. volume': '458033'},\n",
       "  '2025-01-23': {'1. open': '751.9500',\n",
       "   '2. high': '755.8000',\n",
       "   '3. low': '743.3000',\n",
       "   '4. close': '745.9500',\n",
       "   '5. volume': '235130'},\n",
       "  '2025-01-22': {'1. open': '762.8500',\n",
       "   '2. high': '762.8500',\n",
       "   '3. low': '738.3000',\n",
       "   '4. close': '753.2500',\n",
       "   '5. volume': '237866'},\n",
       "  '2025-01-21': {'1. open': '784.9500',\n",
       "   '2. high': '785.3000',\n",
       "   '3. low': '756.2500',\n",
       "   '4. close': '759.0000',\n",
       "   '5. volume': '953600'},\n",
       "  '2025-01-20': {'1. open': '765.0500',\n",
       "   '2. high': '784.9500',\n",
       "   '3. low': '765.0500',\n",
       "   '4. close': '779.0500',\n",
       "   '5. volume': '559123'},\n",
       "  '2025-01-17': {'1. open': '766.9000',\n",
       "   '2. high': '767.8500',\n",
       "   '3. low': '759.4500',\n",
       "   '4. close': '764.1000',\n",
       "   '5. volume': '497950'},\n",
       "  '2025-01-16': {'1. open': '761.6500',\n",
       "   '2. high': '776.5500',\n",
       "   '3. low': '760.0500',\n",
       "   '4. close': '766.4000',\n",
       "   '5. volume': '511761'},\n",
       "  '2025-01-15': {'1. open': '753.7000',\n",
       "   '2. high': '758.8500',\n",
       "   '3. low': '750.3500',\n",
       "   '4. close': '754.0000',\n",
       "   '5. volume': '171791'},\n",
       "  '2025-01-14': {'1. open': '730.6000',\n",
       "   '2. high': '756.9000',\n",
       "   '3. low': '730.6000',\n",
       "   '4. close': '748.1000',\n",
       "   '5. volume': '687121'},\n",
       "  '2025-01-13': {'1. open': '742.9500',\n",
       "   '2. high': '743.8500',\n",
       "   '3. low': '722.5000',\n",
       "   '4. close': '729.6000',\n",
       "   '5. volume': '300275'},\n",
       "  '2025-01-10': {'1. open': '760.3500',\n",
       "   '2. high': '760.8000',\n",
       "   '3. low': '742.0000',\n",
       "   '4. close': '743.1500',\n",
       "   '5. volume': '454472'},\n",
       "  '2025-01-09': {'1. open': '771.9500',\n",
       "   '2. high': '771.9500',\n",
       "   '3. low': '726.9000',\n",
       "   '4. close': '760.3500',\n",
       "   '5. volume': '803943'},\n",
       "  '2025-01-08': {'1. open': '781.0000',\n",
       "   '2. high': '782.5000',\n",
       "   '3. low': '760.1000',\n",
       "   '4. close': '771.2000',\n",
       "   '5. volume': '1224097'},\n",
       "  '2025-01-07': {'1. open': '778.0500',\n",
       "   '2. high': '783.7500',\n",
       "   '3. low': '775.1000',\n",
       "   '4. close': '779.0000',\n",
       "   '5. volume': '563547'},\n",
       "  '2025-01-06': {'1. open': '798.0000',\n",
       "   '2. high': '798.0000',\n",
       "   '3. low': '773.3000',\n",
       "   '4. close': '776.7500',\n",
       "   '5. volume': '624836'},\n",
       "  '2025-01-03': {'1. open': '801.9000',\n",
       "   '2. high': '809.7000',\n",
       "   '3. low': '792.2500',\n",
       "   '4. close': '793.5000',\n",
       "   '5. volume': '387698'},\n",
       "  '2025-01-02': {'1. open': '795.0000',\n",
       "   '2. high': '802.4000',\n",
       "   '3. low': '786.3000',\n",
       "   '4. close': '801.0500',\n",
       "   '5. volume': '711599'},\n",
       "  '2025-01-01': {'1. open': '796.8500',\n",
       "   '2. high': '798.5000',\n",
       "   '3. low': '789.6000',\n",
       "   '4. close': '793.3500',\n",
       "   '5. volume': '356031'},\n",
       "  '2024-12-31': {'1. open': '788.7500',\n",
       "   '2. high': '798.9500',\n",
       "   '3. low': '787.0000',\n",
       "   '4. close': '795.0500',\n",
       "   '5. volume': '283620'},\n",
       "  '2024-12-30': {'1. open': '802.7000',\n",
       "   '2. high': '808.0000',\n",
       "   '3. low': '785.2000',\n",
       "   '4. close': '788.3000',\n",
       "   '5. volume': '686161'},\n",
       "  '2024-12-27': {'1. open': '817.2500',\n",
       "   '2. high': '818.7500',\n",
       "   '3. low': '797.2500',\n",
       "   '4. close': '799.5500',\n",
       "   '5. volume': '1061163'},\n",
       "  '2024-12-26': {'1. open': '813.0000',\n",
       "   '2. high': '822.9500',\n",
       "   '3. low': '808.0000',\n",
       "   '4. close': '811.6500',\n",
       "   '5. volume': '194920'},\n",
       "  '2024-12-24': {'1. open': '825.0000',\n",
       "   '2. high': '825.5500',\n",
       "   '3. low': '809.2000',\n",
       "   '4. close': '811.8500',\n",
       "   '5. volume': '431577'},\n",
       "  '2024-12-23': {'1. open': '818.3500',\n",
       "   '2. high': '823.9000',\n",
       "   '3. low': '812.4000',\n",
       "   '4. close': '820.9500',\n",
       "   '5. volume': '281649'},\n",
       "  '2024-12-20': {'1. open': '833.8000',\n",
       "   '2. high': '836.4000',\n",
       "   '3. low': '810.0000',\n",
       "   '4. close': '812.5000',\n",
       "   '5. volume': '467910'},\n",
       "  '2024-12-19': {'1. open': '822.0500',\n",
       "   '2. high': '837.9000',\n",
       "   '3. low': '820.1000',\n",
       "   '4. close': '832.8000',\n",
       "   '5. volume': '309033'},\n",
       "  '2024-12-18': {'1. open': '850.2000',\n",
       "   '2. high': '850.8000',\n",
       "   '3. low': '836.7000',\n",
       "   '4. close': '839.0500',\n",
       "   '5. volume': '172425'},\n",
       "  '2024-12-17': {'1. open': '859.7500',\n",
       "   '2. high': '862.9500',\n",
       "   '3. low': '847.1500',\n",
       "   '4. close': '850.2000',\n",
       "   '5. volume': '143409'},\n",
       "  '2024-12-16': {'1. open': '859.0000',\n",
       "   '2. high': '866.2000',\n",
       "   '3. low': '857.8000',\n",
       "   '4. close': '860.7000',\n",
       "   '5. volume': '252691'},\n",
       "  '2024-12-13': {'1. open': '853.7000',\n",
       "   '2. high': '863.0000',\n",
       "   '3. low': '835.0000',\n",
       "   '4. close': '861.7000',\n",
       "   '5. volume': '455324'},\n",
       "  '2024-12-12': {'1. open': '862.5000',\n",
       "   '2. high': '864.2000',\n",
       "   '3. low': '851.2500',\n",
       "   '4. close': '853.7500',\n",
       "   '5. volume': '179011'},\n",
       "  '2024-12-11': {'1. open': '865.7500',\n",
       "   '2. high': '869.7500',\n",
       "   '3. low': '860.8000',\n",
       "   '4. close': '861.5500',\n",
       "   '5. volume': '342069'},\n",
       "  '2024-12-10': {'1. open': '862.0000',\n",
       "   '2. high': '868.8500',\n",
       "   '3. low': '858.5000',\n",
       "   '4. close': '867.6000',\n",
       "   '5. volume': '197287'},\n",
       "  '2024-12-09': {'1. open': '862.9500',\n",
       "   '2. high': '866.8000',\n",
       "   '3. low': '856.7500',\n",
       "   '4. close': '857.8500',\n",
       "   '5. volume': '646144'},\n",
       "  '2024-12-06': {'1. open': '866.9500',\n",
       "   '2. high': '875.5000',\n",
       "   '3. low': '856.8500',\n",
       "   '4. close': '864.0000',\n",
       "   '5. volume': '431320'},\n",
       "  '2024-12-05': {'1. open': '861.6500',\n",
       "   '2. high': '871.0000',\n",
       "   '3. low': '855.6500',\n",
       "   '4. close': '864.8500',\n",
       "   '5. volume': '379508'},\n",
       "  '2024-12-04': {'1. open': '854.4000',\n",
       "   '2. high': '863.8000',\n",
       "   '3. low': '850.2500',\n",
       "   '4. close': '859.4500',\n",
       "   '5. volume': '679548'},\n",
       "  '2024-12-03': {'1. open': '836.4500',\n",
       "   '2. high': '856.6000',\n",
       "   '3. low': '836.4500',\n",
       "   '4. close': '853.9500',\n",
       "   '5. volume': '370485'},\n",
       "  '2024-12-02': {'1. open': '836.2000',\n",
       "   '2. high': '842.0000',\n",
       "   '3. low': '832.8000',\n",
       "   '4. close': '836.2000',\n",
       "   '5. volume': '526054'},\n",
       "  '2024-11-29': {'1. open': '842.0000',\n",
       "   '2. high': '843.8500',\n",
       "   '3. low': '831.5000',\n",
       "   '4. close': '839.0000',\n",
       "   '5. volume': '757635'},\n",
       "  '2024-11-28': {'1. open': '834.9500',\n",
       "   '2. high': '845.7000',\n",
       "   '3. low': '830.3500',\n",
       "   '4. close': '838.7500',\n",
       "   '5. volume': '811586'},\n",
       "  '2024-11-27': {'1. open': '839.3000',\n",
       "   '2. high': '842.1500',\n",
       "   '3. low': '832.0000',\n",
       "   '4. close': '834.2000',\n",
       "   '5. volume': '502957'},\n",
       "  '2024-11-26': {'1. open': '844.7500',\n",
       "   '2. high': '846.7000',\n",
       "   '3. low': '835.2000',\n",
       "   '4. close': '839.3500',\n",
       "   '5. volume': '448647'},\n",
       "  '2024-11-25': {'1. open': '826.2500',\n",
       "   '2. high': '849.3000',\n",
       "   '3. low': '825.9500',\n",
       "   '4. close': '844.7500',\n",
       "   '5. volume': '1612713'},\n",
       "  '2024-11-22': {'1. open': '785.6500',\n",
       "   '2. high': '819.7500',\n",
       "   '3. low': '784.3000',\n",
       "   '4. close': '816.0500',\n",
       "   '5. volume': '1534393'},\n",
       "  '2024-11-21': {'1. open': '800.0000',\n",
       "   '2. high': '800.0000',\n",
       "   '3. low': '761.6500',\n",
       "   '4. close': '780.8500',\n",
       "   '5. volume': '804079'},\n",
       "  '2024-11-19': {'1. open': '817.5500',\n",
       "   '2. high': '820.1000',\n",
       "   '3. low': '800.1000',\n",
       "   '4. close': '802.0000',\n",
       "   '5. volume': '467072'},\n",
       "  '2024-11-18': {'1. open': '810.0500',\n",
       "   '2. high': '816.6500',\n",
       "   '3. low': '799.2000',\n",
       "   '4. close': '813.7000',\n",
       "   '5. volume': '378989'},\n",
       "  '2024-11-14': {'1. open': '809.9500',\n",
       "   '2. high': '817.8500',\n",
       "   '3. low': '801.1000',\n",
       "   '4. close': '804.0500',\n",
       "   '5. volume': '720597'},\n",
       "  '2024-11-13': {'1. open': '822.5000',\n",
       "   '2. high': '831.6500',\n",
       "   '3. low': '804.4500',\n",
       "   '4. close': '808.3500',\n",
       "   '5. volume': '454522'},\n",
       "  '2024-11-12': {'1. open': '851.0000',\n",
       "   '2. high': '853.0000',\n",
       "   '3. low': '824.1000',\n",
       "   '4. close': '826.4000',\n",
       "   '5. volume': '467134'},\n",
       "  '2024-11-11': {'1. open': '847.0000',\n",
       "   '2. high': '853.6500',\n",
       "   '3. low': '841.4500',\n",
       "   '4. close': '847.8000',\n",
       "   '5. volume': '1417460'},\n",
       "  '2024-11-08': {'1. open': '860.0000',\n",
       "   '2. high': '863.6500',\n",
       "   '3. low': '834.3000',\n",
       "   '4. close': '843.2500',\n",
       "   '5. volume': '1106664'},\n",
       "  '2024-11-07': {'1. open': '860.0500',\n",
       "   '2. high': '862.4500',\n",
       "   '3. low': '846.7000',\n",
       "   '4. close': '859.2500',\n",
       "   '5. volume': '494821'},\n",
       "  '2024-11-06': {'1. open': '850.0000',\n",
       "   '2. high': '861.0000',\n",
       "   '3. low': '846.2000',\n",
       "   '4. close': '854.7500',\n",
       "   '5. volume': '896339'},\n",
       "  '2024-11-05': {'1. open': '829.0000',\n",
       "   '2. high': '851.2000',\n",
       "   '3. low': '826.1000',\n",
       "   '4. close': '849.2000',\n",
       "   '5. volume': '1335383'},\n",
       "  '2024-11-04': {'1. open': '822.6500',\n",
       "   '2. high': '837.5000',\n",
       "   '3. low': '807.0500',\n",
       "   '4. close': '829.8500',\n",
       "   '5. volume': '458939'},\n",
       "  '2024-10-31': {'1. open': '821.9500',\n",
       "   '2. high': '828.0000',\n",
       "   '3. low': '813.4500',\n",
       "   '4. close': '820.5000',\n",
       "   '5. volume': '497763'},\n",
       "  '2024-10-30': {'1. open': '830.0000',\n",
       "   '2. high': '832.9000',\n",
       "   '3. low': '821.0500',\n",
       "   '4. close': '822.4000',\n",
       "   '5. volume': '322347'},\n",
       "  '2024-10-29': {'1. open': '796.5000',\n",
       "   '2. high': '834.5000',\n",
       "   '3. low': '790.5000',\n",
       "   '4. close': '832.6500',\n",
       "   '5. volume': '1593501'},\n",
       "  '2024-10-28': {'1. open': '783.2000',\n",
       "   '2. high': '803.9500',\n",
       "   '3. low': '783.2000',\n",
       "   '4. close': '792.0500',\n",
       "   '5. volume': '675658'},\n",
       "  '2024-10-25': {'1. open': '798.4500',\n",
       "   '2. high': '800.0000',\n",
       "   '3. low': '772.0500',\n",
       "   '4. close': '780.6000',\n",
       "   '5. volume': '650630'},\n",
       "  '2024-10-24': {'1. open': '786.0500',\n",
       "   '2. high': '796.8000',\n",
       "   '3. low': '784.5000',\n",
       "   '4. close': '794.7000',\n",
       "   '5. volume': '183971'},\n",
       "  '2024-10-23': {'1. open': '790.0000',\n",
       "   '2. high': '792.5000',\n",
       "   '3. low': '779.6000',\n",
       "   '4. close': '785.9500',\n",
       "   '5. volume': '467975'},\n",
       "  '2024-10-22': {'1. open': '814.1500',\n",
       "   '2. high': '816.3500',\n",
       "   '3. low': '787.6000',\n",
       "   '4. close': '790.4500',\n",
       "   '5. volume': '604778'},\n",
       "  '2024-10-21': {'1. open': '822.0500',\n",
       "   '2. high': '826.3500',\n",
       "   '3. low': '809.1000',\n",
       "   '4. close': '814.1500',\n",
       "   '5. volume': '584223'},\n",
       "  '2024-10-18': {'1. open': '811.0000',\n",
       "   '2. high': '822.4000',\n",
       "   '3. low': '803.1000',\n",
       "   '4. close': '819.9500',\n",
       "   '5. volume': '429099'},\n",
       "  '2024-10-17': {'1. open': '806.0500',\n",
       "   '2. high': '819.2500',\n",
       "   '3. low': '806.0500',\n",
       "   '4. close': '810.9000',\n",
       "   '5. volume': '948591'},\n",
       "  '2024-10-16': {'1. open': '801.0500',\n",
       "   '2. high': '808.9000',\n",
       "   '3. low': '801.0500',\n",
       "   '4. close': '805.8500',\n",
       "   '5. volume': '142406'},\n",
       "  '2024-10-15': {'1. open': '805.0000',\n",
       "   '2. high': '807.6000',\n",
       "   '3. low': '801.5000',\n",
       "   '4. close': '804.6000',\n",
       "   '5. volume': '314354'},\n",
       "  '2024-10-14': {'1. open': '800.1500',\n",
       "   '2. high': '809.0000',\n",
       "   '3. low': '800.1500',\n",
       "   '4. close': '805.2500',\n",
       "   '5. volume': '755286'},\n",
       "  '2024-10-11': {'1. open': '797.0000',\n",
       "   '2. high': '802.5000',\n",
       "   '3. low': '793.0000',\n",
       "   '4. close': '800.0000',\n",
       "   '5. volume': '381115'},\n",
       "  '2024-10-10': {'1. open': '799.9000',\n",
       "   '2. high': '804.3500',\n",
       "   '3. low': '795.0500',\n",
       "   '4. close': '796.9500',\n",
       "   '5. volume': '163966'},\n",
       "  '2024-10-09': {'1. open': '787.9500',\n",
       "   '2. high': '805.0000',\n",
       "   '3. low': '782.5500',\n",
       "   '4. close': '797.0000',\n",
       "   '5. volume': '807499'},\n",
       "  '2024-10-08': {'1. open': '771.1000',\n",
       "   '2. high': '784.5000',\n",
       "   '3. low': '771.1000',\n",
       "   '4. close': '782.0500',\n",
       "   '5. volume': '295906'},\n",
       "  '2024-10-07': {'1. open': '797.0500',\n",
       "   '2. high': '803.9000',\n",
       "   '3. low': '765.5500',\n",
       "   '4. close': '769.8000',\n",
       "   '5. volume': '1587972'},\n",
       "  '2024-10-04': {'1. open': '790.3000',\n",
       "   '2. high': '809.6500',\n",
       "   '3. low': '785.2000',\n",
       "   '4. close': '796.6000',\n",
       "   '5. volume': '1154183'},\n",
       "  '2024-10-03': {'1. open': '787.4000',\n",
       "   '2. high': '803.9500',\n",
       "   '3. low': '784.3500',\n",
       "   '4. close': '794.3500',\n",
       "   '5. volume': '768391'},\n",
       "  '2024-10-01': {'1. open': '788.9500',\n",
       "   '2. high': '799.7500',\n",
       "   '3. low': '788.2500',\n",
       "   '4. close': '797.0000',\n",
       "   '5. volume': '227883'},\n",
       "  '2024-09-30': {'1. open': '801.1500',\n",
       "   '2. high': '802.5000',\n",
       "   '3. low': '786.1500',\n",
       "   '4. close': '787.6000',\n",
       "   '5. volume': '1054719'},\n",
       "  '2024-09-27': {'1. open': '802.0000',\n",
       "   '2. high': '807.8500',\n",
       "   '3. low': '798.4000',\n",
       "   '4. close': '802.6500',\n",
       "   '5. volume': '669965'},\n",
       "  '2024-09-26': {'1. open': '795.1500',\n",
       "   '2. high': '803.0000',\n",
       "   '3. low': '791.5500',\n",
       "   '4. close': '801.9000',\n",
       "   '5. volume': '432917'},\n",
       "  '2024-09-25': {'1. open': '798.2500',\n",
       "   '2. high': '798.2500',\n",
       "   '3. low': '788.6500',\n",
       "   '4. close': '792.9500',\n",
       "   '5. volume': '524539'},\n",
       "  '2024-09-24': {'1. open': '800.0000',\n",
       "   '2. high': '804.1000',\n",
       "   '3. low': '796.6500',\n",
       "   '4. close': '798.3500',\n",
       "   '5. volume': '427650'},\n",
       "  '2024-09-23': {'1. open': '785.0500',\n",
       "   '2. high': '804.9000',\n",
       "   '3. low': '785.0000',\n",
       "   '4. close': '801.8000',\n",
       "   '5. volume': '1415077'},\n",
       "  '2024-09-20': {'1. open': '794.0500',\n",
       "   '2. high': '794.4000',\n",
       "   '3. low': '779.5000',\n",
       "   '4. close': '781.9000',\n",
       "   '5. volume': '1481791'},\n",
       "  '2024-09-19': {'1. open': '794.1500',\n",
       "   '2. high': '801.2500',\n",
       "   '3. low': '784.1000',\n",
       "   '4. close': '790.3500',\n",
       "   '5. volume': '402071'},\n",
       "  '2024-09-18': {'1. open': '783.5500',\n",
       "   '2. high': '794.5000',\n",
       "   '3. low': '781.3000',\n",
       "   '4. close': '792.3500',\n",
       "   '5. volume': '681430'}}}"
      ]
     },
     "execution_count": 10,
     "metadata": {},
     "output_type": "execute_result"
    }
   ],
   "source": [
    "data"
   ]
  },
  {
   "cell_type": "code",
   "execution_count": 11,
   "metadata": {},
   "outputs": [
    {
     "data": {
      "text/plain": [
       "dict_keys(['Meta Data', 'Time Series (Daily)'])"
      ]
     },
     "execution_count": 11,
     "metadata": {},
     "output_type": "execute_result"
    }
   ],
   "source": [
    "data.keys()"
   ]
  },
  {
   "cell_type": "code",
   "execution_count": 12,
   "metadata": {},
   "outputs": [],
   "source": [
    "daily = data[\"Time Series (Daily)\"]"
   ]
  },
  {
   "cell_type": "code",
   "execution_count": 13,
   "metadata": {},
   "outputs": [
    {
     "data": {
      "text/html": [
       "<div>\n",
       "<style scoped>\n",
       "    .dataframe tbody tr th:only-of-type {\n",
       "        vertical-align: middle;\n",
       "    }\n",
       "\n",
       "    .dataframe tbody tr th {\n",
       "        vertical-align: top;\n",
       "    }\n",
       "\n",
       "    .dataframe thead th {\n",
       "        text-align: right;\n",
       "    }\n",
       "</style>\n",
       "<table border=\"1\" class=\"dataframe\">\n",
       "  <thead>\n",
       "    <tr style=\"text-align: right;\">\n",
       "      <th></th>\n",
       "      <th>1. open</th>\n",
       "      <th>2. high</th>\n",
       "      <th>3. low</th>\n",
       "      <th>4. close</th>\n",
       "      <th>5. volume</th>\n",
       "    </tr>\n",
       "  </thead>\n",
       "  <tbody>\n",
       "    <tr>\n",
       "      <th>2025-02-11</th>\n",
       "      <td>738.1500</td>\n",
       "      <td>740.0000</td>\n",
       "      <td>726.9000</td>\n",
       "      <td>731.0000</td>\n",
       "      <td>826170</td>\n",
       "    </tr>\n",
       "    <tr>\n",
       "      <th>2025-02-10</th>\n",
       "      <td>740.5500</td>\n",
       "      <td>744.0500</td>\n",
       "      <td>733.6000</td>\n",
       "      <td>736.8500</td>\n",
       "      <td>788061</td>\n",
       "    </tr>\n",
       "    <tr>\n",
       "      <th>2025-02-07</th>\n",
       "      <td>761.8000</td>\n",
       "      <td>761.8000</td>\n",
       "      <td>732.0500</td>\n",
       "      <td>737.0500</td>\n",
       "      <td>1805880</td>\n",
       "    </tr>\n",
       "    <tr>\n",
       "      <th>2025-02-06</th>\n",
       "      <td>769.6500</td>\n",
       "      <td>770.9500</td>\n",
       "      <td>750.0000</td>\n",
       "      <td>752.3500</td>\n",
       "      <td>1384322</td>\n",
       "    </tr>\n",
       "    <tr>\n",
       "      <th>2025-02-05</th>\n",
       "      <td>780.8000</td>\n",
       "      <td>781.6000</td>\n",
       "      <td>764.6500</td>\n",
       "      <td>766.1000</td>\n",
       "      <td>654303</td>\n",
       "    </tr>\n",
       "    <tr>\n",
       "      <th>...</th>\n",
       "      <td>...</td>\n",
       "      <td>...</td>\n",
       "      <td>...</td>\n",
       "      <td>...</td>\n",
       "      <td>...</td>\n",
       "    </tr>\n",
       "    <tr>\n",
       "      <th>2024-09-24</th>\n",
       "      <td>800.0000</td>\n",
       "      <td>804.1000</td>\n",
       "      <td>796.6500</td>\n",
       "      <td>798.3500</td>\n",
       "      <td>427650</td>\n",
       "    </tr>\n",
       "    <tr>\n",
       "      <th>2024-09-23</th>\n",
       "      <td>785.0500</td>\n",
       "      <td>804.9000</td>\n",
       "      <td>785.0000</td>\n",
       "      <td>801.8000</td>\n",
       "      <td>1415077</td>\n",
       "    </tr>\n",
       "    <tr>\n",
       "      <th>2024-09-20</th>\n",
       "      <td>794.0500</td>\n",
       "      <td>794.4000</td>\n",
       "      <td>779.5000</td>\n",
       "      <td>781.9000</td>\n",
       "      <td>1481791</td>\n",
       "    </tr>\n",
       "    <tr>\n",
       "      <th>2024-09-19</th>\n",
       "      <td>794.1500</td>\n",
       "      <td>801.2500</td>\n",
       "      <td>784.1000</td>\n",
       "      <td>790.3500</td>\n",
       "      <td>402071</td>\n",
       "    </tr>\n",
       "    <tr>\n",
       "      <th>2024-09-18</th>\n",
       "      <td>783.5500</td>\n",
       "      <td>794.5000</td>\n",
       "      <td>781.3000</td>\n",
       "      <td>792.3500</td>\n",
       "      <td>681430</td>\n",
       "    </tr>\n",
       "  </tbody>\n",
       "</table>\n",
       "<p>100 rows × 5 columns</p>\n",
       "</div>"
      ],
      "text/plain": [
       "             1. open   2. high    3. low  4. close 5. volume\n",
       "2025-02-11  738.1500  740.0000  726.9000  731.0000    826170\n",
       "2025-02-10  740.5500  744.0500  733.6000  736.8500    788061\n",
       "2025-02-07  761.8000  761.8000  732.0500  737.0500   1805880\n",
       "2025-02-06  769.6500  770.9500  750.0000  752.3500   1384322\n",
       "2025-02-05  780.8000  781.6000  764.6500  766.1000    654303\n",
       "...              ...       ...       ...       ...       ...\n",
       "2024-09-24  800.0000  804.1000  796.6500  798.3500    427650\n",
       "2024-09-23  785.0500  804.9000  785.0000  801.8000   1415077\n",
       "2024-09-20  794.0500  794.4000  779.5000  781.9000   1481791\n",
       "2024-09-19  794.1500  801.2500  784.1000  790.3500    402071\n",
       "2024-09-18  783.5500  794.5000  781.3000  792.3500    681430\n",
       "\n",
       "[100 rows x 5 columns]"
      ]
     },
     "execution_count": 13,
     "metadata": {},
     "output_type": "execute_result"
    }
   ],
   "source": [
    "import pandas as pd\n",
    "df = pd.DataFrame(daily).T\n",
    "df"
   ]
  },
  {
   "cell_type": "code",
   "execution_count": 14,
   "metadata": {},
   "outputs": [
    {
     "data": {
      "text/plain": [
       "1. open      object\n",
       "2. high      object\n",
       "3. low       object\n",
       "4. close     object\n",
       "5. volume    object\n",
       "dtype: object"
      ]
     },
     "execution_count": 14,
     "metadata": {},
     "output_type": "execute_result"
    }
   ],
   "source": [
    "df.dtypes"
   ]
  },
  {
   "cell_type": "code",
   "execution_count": 15,
   "metadata": {},
   "outputs": [],
   "source": [
    "df = df.astype(float).round(2)"
   ]
  },
  {
   "cell_type": "code",
   "execution_count": 16,
   "metadata": {},
   "outputs": [
    {
     "data": {
      "text/html": [
       "<div>\n",
       "<style scoped>\n",
       "    .dataframe tbody tr th:only-of-type {\n",
       "        vertical-align: middle;\n",
       "    }\n",
       "\n",
       "    .dataframe tbody tr th {\n",
       "        vertical-align: top;\n",
       "    }\n",
       "\n",
       "    .dataframe thead th {\n",
       "        text-align: right;\n",
       "    }\n",
       "</style>\n",
       "<table border=\"1\" class=\"dataframe\">\n",
       "  <thead>\n",
       "    <tr style=\"text-align: right;\">\n",
       "      <th></th>\n",
       "      <th>1. open</th>\n",
       "      <th>2. high</th>\n",
       "      <th>3. low</th>\n",
       "      <th>4. close</th>\n",
       "      <th>5. volume</th>\n",
       "    </tr>\n",
       "  </thead>\n",
       "  <tbody>\n",
       "    <tr>\n",
       "      <th>2025-02-11</th>\n",
       "      <td>738.15</td>\n",
       "      <td>740.00</td>\n",
       "      <td>726.90</td>\n",
       "      <td>731.00</td>\n",
       "      <td>826170.0</td>\n",
       "    </tr>\n",
       "    <tr>\n",
       "      <th>2025-02-10</th>\n",
       "      <td>740.55</td>\n",
       "      <td>744.05</td>\n",
       "      <td>733.60</td>\n",
       "      <td>736.85</td>\n",
       "      <td>788061.0</td>\n",
       "    </tr>\n",
       "    <tr>\n",
       "      <th>2025-02-07</th>\n",
       "      <td>761.80</td>\n",
       "      <td>761.80</td>\n",
       "      <td>732.05</td>\n",
       "      <td>737.05</td>\n",
       "      <td>1805880.0</td>\n",
       "    </tr>\n",
       "    <tr>\n",
       "      <th>2025-02-06</th>\n",
       "      <td>769.65</td>\n",
       "      <td>770.95</td>\n",
       "      <td>750.00</td>\n",
       "      <td>752.35</td>\n",
       "      <td>1384322.0</td>\n",
       "    </tr>\n",
       "    <tr>\n",
       "      <th>2025-02-05</th>\n",
       "      <td>780.80</td>\n",
       "      <td>781.60</td>\n",
       "      <td>764.65</td>\n",
       "      <td>766.10</td>\n",
       "      <td>654303.0</td>\n",
       "    </tr>\n",
       "    <tr>\n",
       "      <th>...</th>\n",
       "      <td>...</td>\n",
       "      <td>...</td>\n",
       "      <td>...</td>\n",
       "      <td>...</td>\n",
       "      <td>...</td>\n",
       "    </tr>\n",
       "    <tr>\n",
       "      <th>2024-09-24</th>\n",
       "      <td>800.00</td>\n",
       "      <td>804.10</td>\n",
       "      <td>796.65</td>\n",
       "      <td>798.35</td>\n",
       "      <td>427650.0</td>\n",
       "    </tr>\n",
       "    <tr>\n",
       "      <th>2024-09-23</th>\n",
       "      <td>785.05</td>\n",
       "      <td>804.90</td>\n",
       "      <td>785.00</td>\n",
       "      <td>801.80</td>\n",
       "      <td>1415077.0</td>\n",
       "    </tr>\n",
       "    <tr>\n",
       "      <th>2024-09-20</th>\n",
       "      <td>794.05</td>\n",
       "      <td>794.40</td>\n",
       "      <td>779.50</td>\n",
       "      <td>781.90</td>\n",
       "      <td>1481791.0</td>\n",
       "    </tr>\n",
       "    <tr>\n",
       "      <th>2024-09-19</th>\n",
       "      <td>794.15</td>\n",
       "      <td>801.25</td>\n",
       "      <td>784.10</td>\n",
       "      <td>790.35</td>\n",
       "      <td>402071.0</td>\n",
       "    </tr>\n",
       "    <tr>\n",
       "      <th>2024-09-18</th>\n",
       "      <td>783.55</td>\n",
       "      <td>794.50</td>\n",
       "      <td>781.30</td>\n",
       "      <td>792.35</td>\n",
       "      <td>681430.0</td>\n",
       "    </tr>\n",
       "  </tbody>\n",
       "</table>\n",
       "<p>100 rows × 5 columns</p>\n",
       "</div>"
      ],
      "text/plain": [
       "            1. open  2. high  3. low  4. close  5. volume\n",
       "2025-02-11   738.15   740.00  726.90    731.00   826170.0\n",
       "2025-02-10   740.55   744.05  733.60    736.85   788061.0\n",
       "2025-02-07   761.80   761.80  732.05    737.05  1805880.0\n",
       "2025-02-06   769.65   770.95  750.00    752.35  1384322.0\n",
       "2025-02-05   780.80   781.60  764.65    766.10   654303.0\n",
       "...             ...      ...     ...       ...        ...\n",
       "2024-09-24   800.00   804.10  796.65    798.35   427650.0\n",
       "2024-09-23   785.05   804.90  785.00    801.80  1415077.0\n",
       "2024-09-20   794.05   794.40  779.50    781.90  1481791.0\n",
       "2024-09-19   794.15   801.25  784.10    790.35   402071.0\n",
       "2024-09-18   783.55   794.50  781.30    792.35   681430.0\n",
       "\n",
       "[100 rows x 5 columns]"
      ]
     },
     "execution_count": 16,
     "metadata": {},
     "output_type": "execute_result"
    }
   ],
   "source": [
    "df"
   ]
  },
  {
   "cell_type": "code",
   "execution_count": 17,
   "metadata": {},
   "outputs": [
    {
     "data": {
      "text/plain": [
       "1. open      float64\n",
       "2. high      float64\n",
       "3. low       float64\n",
       "4. close     float64\n",
       "5. volume    float64\n",
       "dtype: object"
      ]
     },
     "execution_count": 17,
     "metadata": {},
     "output_type": "execute_result"
    }
   ],
   "source": [
    "df.dtypes"
   ]
  },
  {
   "cell_type": "code",
   "execution_count": 18,
   "metadata": {},
   "outputs": [
    {
     "data": {
      "text/plain": [
       "DatetimeIndex(['2025-02-11', '2025-02-10', '2025-02-07', '2025-02-06',\n",
       "               '2025-02-05', '2025-02-04', '2025-02-03', '2025-01-31',\n",
       "               '2025-01-30', '2025-01-29', '2025-01-28', '2025-01-27',\n",
       "               '2025-01-24', '2025-01-23', '2025-01-22', '2025-01-21',\n",
       "               '2025-01-20', '2025-01-17', '2025-01-16', '2025-01-15',\n",
       "               '2025-01-14', '2025-01-13', '2025-01-10', '2025-01-09',\n",
       "               '2025-01-08', '2025-01-07', '2025-01-06', '2025-01-03',\n",
       "               '2025-01-02', '2025-01-01', '2024-12-31', '2024-12-30',\n",
       "               '2024-12-27', '2024-12-26', '2024-12-24', '2024-12-23',\n",
       "               '2024-12-20', '2024-12-19', '2024-12-18', '2024-12-17',\n",
       "               '2024-12-16', '2024-12-13', '2024-12-12', '2024-12-11',\n",
       "               '2024-12-10', '2024-12-09', '2024-12-06', '2024-12-05',\n",
       "               '2024-12-04', '2024-12-03', '2024-12-02', '2024-11-29',\n",
       "               '2024-11-28', '2024-11-27', '2024-11-26', '2024-11-25',\n",
       "               '2024-11-22', '2024-11-21', '2024-11-19', '2024-11-18',\n",
       "               '2024-11-14', '2024-11-13', '2024-11-12', '2024-11-11',\n",
       "               '2024-11-08', '2024-11-07', '2024-11-06', '2024-11-05',\n",
       "               '2024-11-04', '2024-10-31', '2024-10-30', '2024-10-29',\n",
       "               '2024-10-28', '2024-10-25', '2024-10-24', '2024-10-23',\n",
       "               '2024-10-22', '2024-10-21', '2024-10-18', '2024-10-17',\n",
       "               '2024-10-16', '2024-10-15', '2024-10-14', '2024-10-11',\n",
       "               '2024-10-10', '2024-10-09', '2024-10-08', '2024-10-07',\n",
       "               '2024-10-04', '2024-10-03', '2024-10-01', '2024-09-30',\n",
       "               '2024-09-27', '2024-09-26', '2024-09-25', '2024-09-24',\n",
       "               '2024-09-23', '2024-09-20', '2024-09-19', '2024-09-18'],\n",
       "              dtype='datetime64[ns]', freq=None)"
      ]
     },
     "execution_count": 18,
     "metadata": {},
     "output_type": "execute_result"
    }
   ],
   "source": [
    "# Convert index to datatime\n",
    "df.index = pd.to_datetime(df.index)\n",
    "df.index"
   ]
  },
  {
   "cell_type": "code",
   "execution_count": 19,
   "metadata": {},
   "outputs": [
    {
     "data": {
      "text/html": [
       "<div>\n",
       "<style scoped>\n",
       "    .dataframe tbody tr th:only-of-type {\n",
       "        vertical-align: middle;\n",
       "    }\n",
       "\n",
       "    .dataframe tbody tr th {\n",
       "        vertical-align: top;\n",
       "    }\n",
       "\n",
       "    .dataframe thead th {\n",
       "        text-align: right;\n",
       "    }\n",
       "</style>\n",
       "<table border=\"1\" class=\"dataframe\">\n",
       "  <thead>\n",
       "    <tr style=\"text-align: right;\">\n",
       "      <th></th>\n",
       "      <th>1. open</th>\n",
       "      <th>2. high</th>\n",
       "      <th>3. low</th>\n",
       "      <th>4. close</th>\n",
       "      <th>5. volume</th>\n",
       "    </tr>\n",
       "  </thead>\n",
       "  <tbody>\n",
       "    <tr>\n",
       "      <th>2025-02-11</th>\n",
       "      <td>738.15</td>\n",
       "      <td>740.00</td>\n",
       "      <td>726.90</td>\n",
       "      <td>731.00</td>\n",
       "      <td>826170.0</td>\n",
       "    </tr>\n",
       "    <tr>\n",
       "      <th>2025-02-10</th>\n",
       "      <td>740.55</td>\n",
       "      <td>744.05</td>\n",
       "      <td>733.60</td>\n",
       "      <td>736.85</td>\n",
       "      <td>788061.0</td>\n",
       "    </tr>\n",
       "    <tr>\n",
       "      <th>2025-02-07</th>\n",
       "      <td>761.80</td>\n",
       "      <td>761.80</td>\n",
       "      <td>732.05</td>\n",
       "      <td>737.05</td>\n",
       "      <td>1805880.0</td>\n",
       "    </tr>\n",
       "    <tr>\n",
       "      <th>2025-02-06</th>\n",
       "      <td>769.65</td>\n",
       "      <td>770.95</td>\n",
       "      <td>750.00</td>\n",
       "      <td>752.35</td>\n",
       "      <td>1384322.0</td>\n",
       "    </tr>\n",
       "    <tr>\n",
       "      <th>2025-02-05</th>\n",
       "      <td>780.80</td>\n",
       "      <td>781.60</td>\n",
       "      <td>764.65</td>\n",
       "      <td>766.10</td>\n",
       "      <td>654303.0</td>\n",
       "    </tr>\n",
       "    <tr>\n",
       "      <th>...</th>\n",
       "      <td>...</td>\n",
       "      <td>...</td>\n",
       "      <td>...</td>\n",
       "      <td>...</td>\n",
       "      <td>...</td>\n",
       "    </tr>\n",
       "    <tr>\n",
       "      <th>2024-09-24</th>\n",
       "      <td>800.00</td>\n",
       "      <td>804.10</td>\n",
       "      <td>796.65</td>\n",
       "      <td>798.35</td>\n",
       "      <td>427650.0</td>\n",
       "    </tr>\n",
       "    <tr>\n",
       "      <th>2024-09-23</th>\n",
       "      <td>785.05</td>\n",
       "      <td>804.90</td>\n",
       "      <td>785.00</td>\n",
       "      <td>801.80</td>\n",
       "      <td>1415077.0</td>\n",
       "    </tr>\n",
       "    <tr>\n",
       "      <th>2024-09-20</th>\n",
       "      <td>794.05</td>\n",
       "      <td>794.40</td>\n",
       "      <td>779.50</td>\n",
       "      <td>781.90</td>\n",
       "      <td>1481791.0</td>\n",
       "    </tr>\n",
       "    <tr>\n",
       "      <th>2024-09-19</th>\n",
       "      <td>794.15</td>\n",
       "      <td>801.25</td>\n",
       "      <td>784.10</td>\n",
       "      <td>790.35</td>\n",
       "      <td>402071.0</td>\n",
       "    </tr>\n",
       "    <tr>\n",
       "      <th>2024-09-18</th>\n",
       "      <td>783.55</td>\n",
       "      <td>794.50</td>\n",
       "      <td>781.30</td>\n",
       "      <td>792.35</td>\n",
       "      <td>681430.0</td>\n",
       "    </tr>\n",
       "  </tbody>\n",
       "</table>\n",
       "<p>100 rows × 5 columns</p>\n",
       "</div>"
      ],
      "text/plain": [
       "            1. open  2. high  3. low  4. close  5. volume\n",
       "2025-02-11   738.15   740.00  726.90    731.00   826170.0\n",
       "2025-02-10   740.55   744.05  733.60    736.85   788061.0\n",
       "2025-02-07   761.80   761.80  732.05    737.05  1805880.0\n",
       "2025-02-06   769.65   770.95  750.00    752.35  1384322.0\n",
       "2025-02-05   780.80   781.60  764.65    766.10   654303.0\n",
       "...             ...      ...     ...       ...        ...\n",
       "2024-09-24   800.00   804.10  796.65    798.35   427650.0\n",
       "2024-09-23   785.05   804.90  785.00    801.80  1415077.0\n",
       "2024-09-20   794.05   794.40  779.50    781.90  1481791.0\n",
       "2024-09-19   794.15   801.25  784.10    790.35   402071.0\n",
       "2024-09-18   783.55   794.50  781.30    792.35   681430.0\n",
       "\n",
       "[100 rows x 5 columns]"
      ]
     },
     "execution_count": 19,
     "metadata": {},
     "output_type": "execute_result"
    }
   ],
   "source": [
    "df"
   ]
  },
  {
   "cell_type": "code",
   "execution_count": 20,
   "metadata": {},
   "outputs": [],
   "source": [
    "df.index.name = \"Date\""
   ]
  },
  {
   "cell_type": "code",
   "execution_count": 21,
   "metadata": {},
   "outputs": [
    {
     "data": {
      "text/html": [
       "<div>\n",
       "<style scoped>\n",
       "    .dataframe tbody tr th:only-of-type {\n",
       "        vertical-align: middle;\n",
       "    }\n",
       "\n",
       "    .dataframe tbody tr th {\n",
       "        vertical-align: top;\n",
       "    }\n",
       "\n",
       "    .dataframe thead th {\n",
       "        text-align: right;\n",
       "    }\n",
       "</style>\n",
       "<table border=\"1\" class=\"dataframe\">\n",
       "  <thead>\n",
       "    <tr style=\"text-align: right;\">\n",
       "      <th></th>\n",
       "      <th>1. open</th>\n",
       "      <th>2. high</th>\n",
       "      <th>3. low</th>\n",
       "      <th>4. close</th>\n",
       "      <th>5. volume</th>\n",
       "    </tr>\n",
       "    <tr>\n",
       "      <th>Date</th>\n",
       "      <th></th>\n",
       "      <th></th>\n",
       "      <th></th>\n",
       "      <th></th>\n",
       "      <th></th>\n",
       "    </tr>\n",
       "  </thead>\n",
       "  <tbody>\n",
       "    <tr>\n",
       "      <th>2025-02-11</th>\n",
       "      <td>738.15</td>\n",
       "      <td>740.00</td>\n",
       "      <td>726.90</td>\n",
       "      <td>731.00</td>\n",
       "      <td>826170.0</td>\n",
       "    </tr>\n",
       "    <tr>\n",
       "      <th>2025-02-10</th>\n",
       "      <td>740.55</td>\n",
       "      <td>744.05</td>\n",
       "      <td>733.60</td>\n",
       "      <td>736.85</td>\n",
       "      <td>788061.0</td>\n",
       "    </tr>\n",
       "    <tr>\n",
       "      <th>2025-02-07</th>\n",
       "      <td>761.80</td>\n",
       "      <td>761.80</td>\n",
       "      <td>732.05</td>\n",
       "      <td>737.05</td>\n",
       "      <td>1805880.0</td>\n",
       "    </tr>\n",
       "    <tr>\n",
       "      <th>2025-02-06</th>\n",
       "      <td>769.65</td>\n",
       "      <td>770.95</td>\n",
       "      <td>750.00</td>\n",
       "      <td>752.35</td>\n",
       "      <td>1384322.0</td>\n",
       "    </tr>\n",
       "    <tr>\n",
       "      <th>2025-02-05</th>\n",
       "      <td>780.80</td>\n",
       "      <td>781.60</td>\n",
       "      <td>764.65</td>\n",
       "      <td>766.10</td>\n",
       "      <td>654303.0</td>\n",
       "    </tr>\n",
       "    <tr>\n",
       "      <th>...</th>\n",
       "      <td>...</td>\n",
       "      <td>...</td>\n",
       "      <td>...</td>\n",
       "      <td>...</td>\n",
       "      <td>...</td>\n",
       "    </tr>\n",
       "    <tr>\n",
       "      <th>2024-09-24</th>\n",
       "      <td>800.00</td>\n",
       "      <td>804.10</td>\n",
       "      <td>796.65</td>\n",
       "      <td>798.35</td>\n",
       "      <td>427650.0</td>\n",
       "    </tr>\n",
       "    <tr>\n",
       "      <th>2024-09-23</th>\n",
       "      <td>785.05</td>\n",
       "      <td>804.90</td>\n",
       "      <td>785.00</td>\n",
       "      <td>801.80</td>\n",
       "      <td>1415077.0</td>\n",
       "    </tr>\n",
       "    <tr>\n",
       "      <th>2024-09-20</th>\n",
       "      <td>794.05</td>\n",
       "      <td>794.40</td>\n",
       "      <td>779.50</td>\n",
       "      <td>781.90</td>\n",
       "      <td>1481791.0</td>\n",
       "    </tr>\n",
       "    <tr>\n",
       "      <th>2024-09-19</th>\n",
       "      <td>794.15</td>\n",
       "      <td>801.25</td>\n",
       "      <td>784.10</td>\n",
       "      <td>790.35</td>\n",
       "      <td>402071.0</td>\n",
       "    </tr>\n",
       "    <tr>\n",
       "      <th>2024-09-18</th>\n",
       "      <td>783.55</td>\n",
       "      <td>794.50</td>\n",
       "      <td>781.30</td>\n",
       "      <td>792.35</td>\n",
       "      <td>681430.0</td>\n",
       "    </tr>\n",
       "  </tbody>\n",
       "</table>\n",
       "<p>100 rows × 5 columns</p>\n",
       "</div>"
      ],
      "text/plain": [
       "            1. open  2. high  3. low  4. close  5. volume\n",
       "Date                                                     \n",
       "2025-02-11   738.15   740.00  726.90    731.00   826170.0\n",
       "2025-02-10   740.55   744.05  733.60    736.85   788061.0\n",
       "2025-02-07   761.80   761.80  732.05    737.05  1805880.0\n",
       "2025-02-06   769.65   770.95  750.00    752.35  1384322.0\n",
       "2025-02-05   780.80   781.60  764.65    766.10   654303.0\n",
       "...             ...      ...     ...       ...        ...\n",
       "2024-09-24   800.00   804.10  796.65    798.35   427650.0\n",
       "2024-09-23   785.05   804.90  785.00    801.80  1415077.0\n",
       "2024-09-20   794.05   794.40  779.50    781.90  1481791.0\n",
       "2024-09-19   794.15   801.25  784.10    790.35   402071.0\n",
       "2024-09-18   783.55   794.50  781.30    792.35   681430.0\n",
       "\n",
       "[100 rows x 5 columns]"
      ]
     },
     "execution_count": 21,
     "metadata": {},
     "output_type": "execute_result"
    }
   ],
   "source": [
    "df"
   ]
  },
  {
   "cell_type": "code",
   "execution_count": 22,
   "metadata": {},
   "outputs": [],
   "source": [
    "df.to_csv(\"SBIPrice.csv\")"
   ]
  },
  {
   "cell_type": "code",
   "execution_count": 23,
   "metadata": {},
   "outputs": [
    {
     "data": {
      "text/plain": [
       "Index(['1. open', '2. high', '3. low', '4. close', '5. volume'], dtype='object')"
      ]
     },
     "execution_count": 23,
     "metadata": {},
     "output_type": "execute_result"
    }
   ],
   "source": [
    "df.columns"
   ]
  },
  {
   "cell_type": "markdown",
   "metadata": {},
   "source": [
    "### Visulize the data with Candlesrick chart"
   ]
  },
  {
   "attachments": {
    "image.png": {
     "image/png": "[encoded data removed]"
    }
   },
   "cell_type": "markdown",
   "metadata": {},
   "source": [
    "![image.png](attachment:image.png)"
   ]
  },
  {
   "cell_type": "code",
   "execution_count": 24,
   "metadata": {},
   "outputs": [],
   "source": [
    "import plotly.graph_objects as go"
   ]
  },
  {
   "cell_type": "code",
   "execution_count": 25,
   "metadata": {},
   "outputs": [
    {
     "data": {
      "application/vnd.plotly.v1+json": {
       "config": {
        "plotlyServerURL": "https://plot.ly"
       },
       "data": [
        {
         "close": {
          "bdata": "AAAAAADYhkDNzMzMzAaHQGZmZmZmCIdAzczMzMyCh0DNzMzMzPCHQJqZmZmZWYhAAAAAAADIh0DNzMzMzCiIQJqZmZmZ0YdAmpmZmZm1h0AzMzMzM32HQJqZmZmZaYdAzczMzMxCh0CamZmZmU+HQAAAAAAAiodAAAAAAAC4h0BmZmZmZliIQM3MzMzM4IdAMzMzMzPzh0AAAAAAAJCHQM3MzMzMYIdAzczMzMzMhkAzMzMzMzmHQM3MzMzMwodAmpmZmZkZiEAAAAAAAFiIQAAAAAAARohAAAAAAADMiEBmZmZmZgiJQM3MzMzMyohAZmZmZmbYiEBmZmZmZqKIQGZmZmZm/IhAMzMzMzNdiUDNzMzMzF6JQJqZmZmZp4lAAAAAAABkiUBmZmZmZgaKQGZmZmZmOIpAmpmZmZmRikCamZmZmeWKQJqZmZmZ7YpAAAAAAACuikBmZmZmZuyKQM3MzMzMHItAzczMzMzOikAAAAAAAACLQM3MzMzMBotAmpmZmZnbikCamZmZma+KQJqZmZmZIYpAAAAAAAA4ikAAAAAAADaKQJqZmZmZEYpAzczMzMw6ikAAAAAAAGaKQGZmZmZmgIlAzczMzMxmiEAAAAAAABCJQJqZmZmZbYlAZmZmZmYgiUDNzMzMzEKJQDMzMzMz04lAZmZmZmZ+ikAAAAAAAFqKQAAAAAAA2opAAAAAAAC2ikCamZmZmYmKQM3MzMzM7olAAAAAAACkiUAzMzMzM7OJQDMzMzMzBYpAZmZmZmbAiEDNzMzMzGSIQJqZmZmZ1YhAmpmZmZmPiECamZmZmbOIQDMzMzMzcYlAmpmZmZmfiUAzMzMzM1eJQM3MzMzMLolAzczMzMwkiUAAAAAAACqJQAAAAAAAAIlAmpmZmZnniEAAAAAAAOiIQGZmZmZmcIhAZmZmZmYOiEDNzMzMzOSIQM3MzMzM0ohAAAAAAADoiEDNzMzMzJyIQDMzMzMzFYlAMzMzMzMPiUCamZmZmceIQM3MzMzM8ohAZmZmZmYOiUAzMzMzM2+IQM3MzMzMsohAzczMzMzCiEA=",
          "dtype": "f8"
         },
         "high": {
          "bdata": "AAAAAAAgh0BmZmZmZkCHQGZmZmZmzodAmpmZmZkXiEDNzMzMzGyIQM3MzMzMZohAMzMzMzPdh0AAAAAAAE6IQM3MzMzM5odAAAAAAADCh0DNzMzMzLyHQGZmZmZmmodAAAAAAACOh0BmZmZmZp6HQM3MzMzM1odAZmZmZmaKiECamZmZmYeIQM3MzMzM/odAZmZmZmZEiEDNzMzMzLaHQDMzMzMzp4dAzczMzMw+h0BmZmZmZsaHQJqZmZmZH4hAAAAAAAB0iEAAAAAAAH6IQAAAAAAA8IhAmpmZmZlNiUAzMzMzMxOJQAAAAAAA9IhAmpmZmZn3iEAAAAAAAECJQAAAAAAAlolAmpmZmZm3iUBmZmZmZsyJQDMzMzMzv4lAMzMzMzMjikAzMzMzMy+KQGZmZmZmlopAmpmZmZn3ikCamZmZmRGLQAAAAAAA+IpAmpmZmZkBi0AAAAAAAC6LQM3MzMzMJotAZmZmZmYWi0AAAAAAAFyLQAAAAAAAOItAZmZmZmb+ikDNzMzMzMSKQAAAAAAAUIpAzczMzMxeikCamZmZmW2KQDMzMzMzUYpAmpmZmZl1ikBmZmZmZoqKQAAAAAAAnolAAAAAAAAAiUDNzMzMzKCJQDMzMzMzhYlAzczMzMyOiUAzMzMzM/2JQAAAAAAAqIpAMzMzMzOtikAzMzMzM/2KQJqZmZmZ84pAAAAAAADoikCamZmZmZmKQAAAAAAALIpAAAAAAADgiUAzMzMzMweKQAAAAAAAFIpAmpmZmZkfiUAAAAAAAACJQGZmZmZm5ohAAAAAAADEiEDNzMzMzIKJQM3MzMzM0olAMzMzMzOziUAAAAAAAJqJQDMzMzMzR4lAzczMzMw8iUAAAAAAAEiJQAAAAAAAFIlAzczMzMwiiUAAAAAAACiJQAAAAAAAhIhAMzMzMzMfiUAzMzMzM02JQJqZmZmZH4lAAAAAAAD+iEAAAAAAABSJQM3MzMzMPolAAAAAAAAYiUAAAAAAAPKIQM3MzMzMIIlAMzMzMzMniUAzMzMzM9OIQAAAAAAAColAAAAAAADUiEA=",
          "dtype": "f8"
         },
         "low": {
          "bdata": "MzMzMzO3hkDNzMzMzOyGQGZmZmZm4IZAAAAAAABwh0AzMzMzM+WHQAAAAAAA8IdAmpmZmZmLh0DNzMzMzLqHQJqZmZmZlYdAZmZmZmZuh0AzMzMzM02HQAAAAAAAAIdAzczMzMwWh0BmZmZmZjqHQGZmZmZmEodAAAAAAACih0BmZmZmZuiHQJqZmZmZu4dAZmZmZmbAh0DNzMzMzHKHQM3MzMzM1IZAAAAAAACUhkAAAAAAADCHQDMzMzMzt4ZAzczMzMzAh0DNzMzMzDiIQGZmZmZmKohAAAAAAADCiEBmZmZmZpKIQM3MzMzMrIhAAAAAAACYiECamZmZmYmIQAAAAAAA6ohAAAAAAABAiUCamZmZmUmJQDMzMzMzY4lAAAAAAABQiUDNzMzMzKCJQJqZmZmZJYpAMzMzMzN5ikBmZmZmZs6KQAAAAAAAGIpAAAAAAACaikBmZmZmZuaKQAAAAAAA1IpAAAAAAADGikDNzMzMzMaKQDMzMzMzvYpAAAAAAACSikCamZmZmSOKQGZmZmZmBopAAAAAAAD8iUDNzMzMzPKJQAAAAAAAAIpAmpmZmZkZikCamZmZmc+JQGZmZmZmgohAMzMzMzPNh0DNzMzMzACJQJqZmZmZ+YhAzczMzMwIiUCamZmZmSOJQM3MzMzMwIlAmpmZmZlLikBmZmZmZhKKQJqZmZmZdYpAmpmZmZlxikDNzMzMzNCJQGZmZmZmOIlAmpmZmZlriUBmZmZmZqiJQAAAAAAAtIhAmpmZmZl5iEBmZmZmZiCIQAAAAAAAhIhAzczMzMxciEDNzMzMzJyIQM3MzMzMSIlAzczMzMwYiUBmZmZmZjCJQGZmZmZmCIlAAAAAAAAMiUAzMzMzMwGJQAAAAAAAyIhAZmZmZmbYiEBmZmZmZnSIQM3MzMzMGIhAZmZmZmbsh0CamZmZmYmIQM3MzMzMgohAAAAAAACiiEAzMzMzM5GIQDMzMzMz84hAZmZmZma8iEAzMzMzM6WIQDMzMzMz5YhAAAAAAACIiEAAAAAAAFyIQM3MzMzMgIhAZmZmZmZqiEA=",
          "dtype": "f8"
         },
         "open": {
          "bdata": "MzMzMzMRh0BmZmZmZiSHQGZmZmZmzodAMzMzMzMNiEBmZmZmZmaIQGZmZmZm8odAMzMzMzPdh0AAAAAAAOiHQDMzMzMzu4dAAAAAAACEh0CamZmZmaGHQAAAAAAAIIdAmpmZmZlZh0CamZmZmX+HQM3MzMzM1odAmpmZmZmHiEBmZmZmZuiHQDMzMzMz94dAMzMzMzPNh0CamZmZmY2HQM3MzMzM1IZAmpmZmZk3h0DNzMzMzMKHQJqZmZmZH4hAAAAAAABoiEBmZmZmZlCIQAAAAAAA8IhAMzMzMzMPiUAAAAAAANiIQM3MzMzM5ohAAAAAAACmiECamZmZmRWJQAAAAAAAiolAAAAAAABoiUAAAAAAAMiJQM3MzMzMkolAZmZmZmYOikBmZmZmZrCJQJqZmZmZkYpAAAAAAADeikAAAAAAANiKQJqZmZmZrYpAAAAAAAD0ikAAAAAAAA6LQAAAAAAA8IpAmpmZmZn3ikCamZmZmReLQDMzMzMz7YpAMzMzMzOzikCamZmZmSOKQJqZmZmZIYpAAAAAAABQikCamZmZmReKQGZmZmZmOopAAAAAAABmikAAAAAAANKJQDMzMzMzjYhAAAAAAAAAiUBmZmZmZoyJQGZmZmZmUIlAmpmZmZlPiUAAAAAAALSJQAAAAAAAmIpAAAAAAAB4ikAAAAAAAOCKQGZmZmZm4IpAAAAAAACQikAAAAAAAOiJQDMzMzMztYlAmpmZmZmviUAAAAAAAPCJQAAAAAAA5IhAmpmZmZl5iECamZmZmfOIQGZmZmZmkIhAAAAAAACwiEAzMzMzM3GJQGZmZmZmsIlAAAAAAABYiUBmZmZmZjCJQGZmZmZmCIlAAAAAAAAoiUAzMzMzMwGJQAAAAAAA6IhAMzMzMzP/iECamZmZmZ+IQM3MzMzMGIhAZmZmZmboiEBmZmZmZrKIQDMzMzMzm4hAmpmZmZmniEAzMzMzMwmJQAAAAAAAEIlAMzMzMzPZiEAAAAAAAPKIQAAAAAAAAIlAZmZmZmaIiEBmZmZmZtCIQDMzMzMz0YhAZmZmZmZ8iEA=",
          "dtype": "f8"
         },
         "type": "candlestick",
         "x": [
          "2025-02-11T00:00:00.000000000",
          "2025-02-10T00:00:00.000000000",
          "2025-02-07T00:00:00.000000000",
          "2025-02-06T00:00:00.000000000",
          "2025-02-05T00:00:00.000000000",
          "2025-02-04T00:00:00.000000000",
          "2025-02-03T00:00:00.000000000",
          "2025-01-31T00:00:00.000000000",
          "2025-01-30T00:00:00.000000000",
          "2025-01-29T00:00:00.000000000",
          "2025-01-28T00:00:00.000000000",
          "2025-01-27T00:00:00.000000000",
          "2025-01-24T00:00:00.000000000",
          "2025-01-23T00:00:00.000000000",
          "2025-01-22T00:00:00.000000000",
          "2025-01-21T00:00:00.000000000",
          "2025-01-20T00:00:00.000000000",
          "2025-01-17T00:00:00.000000000",
          "2025-01-16T00:00:00.000000000",
          "2025-01-15T00:00:00.000000000",
          "2025-01-14T00:00:00.000000000",
          "2025-01-13T00:00:00.000000000",
          "2025-01-10T00:00:00.000000000",
          "2025-01-09T00:00:00.000000000",
          "2025-01-08T00:00:00.000000000",
          "2025-01-07T00:00:00.000000000",
          "2025-01-06T00:00:00.000000000",
          "2025-01-03T00:00:00.000000000",
          "2025-01-02T00:00:00.000000000",
          "2025-01-01T00:00:00.000000000",
          "2024-12-31T00:00:00.000000000",
          "2024-12-30T00:00:00.000000000",
          "2024-12-27T00:00:00.000000000",
          "2024-12-26T00:00:00.000000000",
          "2024-12-24T00:00:00.000000000",
          "2024-12-23T00:00:00.000000000",
          "2024-12-20T00:00:00.000000000",
          "2024-12-19T00:00:00.000000000",
          "2024-12-18T00:00:00.000000000",
          "2024-12-17T00:00:00.000000000",
          "2024-12-16T00:00:00.000000000",
          "2024-12-13T00:00:00.000000000",
          "2024-12-12T00:00:00.000000000",
          "2024-12-11T00:00:00.000000000",
          "2024-12-10T00:00:00.000000000",
          "2024-12-09T00:00:00.000000000",
          "2024-12-06T00:00:00.000000000",
          "2024-12-05T00:00:00.000000000",
          "2024-12-04T00:00:00.000000000",
          "2024-12-03T00:00:00.000000000",
          "2024-12-02T00:00:00.000000000",
          "2024-11-29T00:00:00.000000000",
          "2024-11-28T00:00:00.000000000",
          "2024-11-27T00:00:00.000000000",
          "2024-11-26T00:00:00.000000000",
          "2024-11-25T00:00:00.000000000",
          "2024-11-22T00:00:00.000000000",
          "2024-11-21T00:00:00.000000000",
          "2024-11-19T00:00:00.000000000",
          "2024-11-18T00:00:00.000000000",
          "2024-11-14T00:00:00.000000000",
          "2024-11-13T00:00:00.000000000",
          "2024-11-12T00:00:00.000000000",
          "2024-11-11T00:00:00.000000000",
          "2024-11-08T00:00:00.000000000",
          "2024-11-07T00:00:00.000000000",
          "2024-11-06T00:00:00.000000000",
          "2024-11-05T00:00:00.000000000",
          "2024-11-04T00:00:00.000000000",
          "2024-10-31T00:00:00.000000000",
          "2024-10-30T00:00:00.000000000",
          "2024-10-29T00:00:00.000000000",
          "2024-10-28T00:00:00.000000000",
          "2024-10-25T00:00:00.000000000",
          "2024-10-24T00:00:00.000000000",
          "2024-10-23T00:00:00.000000000",
          "2024-10-22T00:00:00.000000000",
          "2024-10-21T00:00:00.000000000",
          "2024-10-18T00:00:00.000000000",
          "2024-10-17T00:00:00.000000000",
          "2024-10-16T00:00:00.000000000",
          "2024-10-15T00:00:00.000000000",
          "2024-10-14T00:00:00.000000000",
          "2024-10-11T00:00:00.000000000",
          "2024-10-10T00:00:00.000000000",
          "2024-10-09T00:00:00.000000000",
          "2024-10-08T00:00:00.000000000",
          "2024-10-07T00:00:00.000000000",
          "2024-10-04T00:00:00.000000000",
          "2024-10-03T00:00:00.000000000",
          "2024-10-01T00:00:00.000000000",
          "2024-09-30T00:00:00.000000000",
          "2024-09-27T00:00:00.000000000",
          "2024-09-26T00:00:00.000000000",
          "2024-09-25T00:00:00.000000000",
          "2024-09-24T00:00:00.000000000",
          "2024-09-23T00:00:00.000000000",
          "2024-09-20T00:00:00.000000000",
          "2024-09-19T00:00:00.000000000",
          "2024-09-18T00:00:00.000000000"
         ]
        }
       ],
       "layout": {
        "height": 800,
        "template": {
         "data": {
          "bar": [
           {
            "error_x": {
             "color": "#2a3f5f"
            },
            "error_y": {
             "color": "#2a3f5f"
            },
            "marker": {
             "line": {
              "color": "#E5ECF6",
              "width": 0.5
             },
             "pattern": {
              "fillmode": "overlay",
              "size": 10,
              "solidity": 0.2
             }
            },
            "type": "bar"
           }
          ],
          "barpolar": [
           {
            "marker": {
             "line": {
              "color": "#E5ECF6",
              "width": 0.5
             },
             "pattern": {
              "fillmode": "overlay",
              "size": 10,
              "solidity": 0.2
             }
            },
            "type": "barpolar"
           }
          ],
          "carpet": [
           {
            "aaxis": {
             "endlinecolor": "#2a3f5f",
             "gridcolor": "white",
             "linecolor": "white",
             "minorgridcolor": "white",
             "startlinecolor": "#2a3f5f"
            },
            "baxis": {
             "endlinecolor": "#2a3f5f",
             "gridcolor": "white",
             "linecolor": "white",
             "minorgridcolor": "white",
             "startlinecolor": "#2a3f5f"
            },
            "type": "carpet"
           }
          ],
          "choropleth": [
           {
            "colorbar": {
             "outlinewidth": 0,
             "ticks": ""
            },
            "type": "choropleth"
           }
          ],
          "contour": [
           {
            "colorbar": {
             "outlinewidth": 0,
             "ticks": ""
            },
            "colorscale": [
             [
              0,
              "#0d0887"
             ],
             [
              0.1111111111111111,
              "#46039f"
             ],
             [
              0.2222222222222222,
              "#7201a8"
             ],
             [
              0.3333333333333333,
              "#9c179e"
             ],
             [
              0.4444444444444444,
              "#bd3786"
             ],
             [
              0.5555555555555556,
              "#d8576b"
             ],
             [
              0.6666666666666666,
              "#ed7953"
             ],
             [
              0.7777777777777778,
              "#fb9f3a"
             ],
             [
              0.8888888888888888,
              "#fdca26"
             ],
             [
              1,
              "#f0f921"
             ]
            ],
            "type": "contour"
           }
          ],
          "contourcarpet": [
           {
            "colorbar": {
             "outlinewidth": 0,
             "ticks": ""
            },
            "type": "contourcarpet"
           }
          ],
          "heatmap": [
           {
            "colorbar": {
             "outlinewidth": 0,
             "ticks": ""
            },
            "colorscale": [
             [
              0,
              "#0d0887"
             ],
             [
              0.1111111111111111,
              "#46039f"
             ],
             [
              0.2222222222222222,
              "#7201a8"
             ],
             [
              0.3333333333333333,
              "#9c179e"
             ],
             [
              0.4444444444444444,
              "#bd3786"
             ],
             [
              0.5555555555555556,
              "#d8576b"
             ],
             [
              0.6666666666666666,
              "#ed7953"
             ],
             [
              0.7777777777777778,
              "#fb9f3a"
             ],
             [
              0.8888888888888888,
              "#fdca26"
             ],
             [
              1,
              "#f0f921"
             ]
            ],
            "type": "heatmap"
           }
          ],
          "histogram": [
           {
            "marker": {
             "pattern": {
              "fillmode": "overlay",
              "size": 10,
              "solidity": 0.2
             }
            },
            "type": "histogram"
           }
          ],
          "histogram2d": [
           {
            "colorbar": {
             "outlinewidth": 0,
             "ticks": ""
            },
            "colorscale": [
             [
              0,
              "#0d0887"
             ],
             [
              0.1111111111111111,
              "#46039f"
             ],
             [
              0.2222222222222222,
              "#7201a8"
             ],
             [
              0.3333333333333333,
              "#9c179e"
             ],
             [
              0.4444444444444444,
              "#bd3786"
             ],
             [
              0.5555555555555556,
              "#d8576b"
             ],
             [
              0.6666666666666666,
              "#ed7953"
             ],
             [
              0.7777777777777778,
              "#fb9f3a"
             ],
             [
              0.8888888888888888,
              "#fdca26"
             ],
             [
              1,
              "#f0f921"
             ]
            ],
            "type": "histogram2d"
           }
          ],
          "histogram2dcontour": [
           {
            "colorbar": {
             "outlinewidth": 0,
             "ticks": ""
            },
            "colorscale": [
             [
              0,
              "#0d0887"
             ],
             [
              0.1111111111111111,
              "#46039f"
             ],
             [
              0.2222222222222222,
              "#7201a8"
             ],
             [
              0.3333333333333333,
              "#9c179e"
             ],
             [
              0.4444444444444444,
              "#bd3786"
             ],
             [
              0.5555555555555556,
              "#d8576b"
             ],
             [
              0.6666666666666666,
              "#ed7953"
             ],
             [
              0.7777777777777778,
              "#fb9f3a"
             ],
             [
              0.8888888888888888,
              "#fdca26"
             ],
             [
              1,
              "#f0f921"
             ]
            ],
            "type": "histogram2dcontour"
           }
          ],
          "mesh3d": [
           {
            "colorbar": {
             "outlinewidth": 0,
             "ticks": ""
            },
            "type": "mesh3d"
           }
          ],
          "parcoords": [
           {
            "line": {
             "colorbar": {
              "outlinewidth": 0,
              "ticks": ""
             }
            },
            "type": "parcoords"
           }
          ],
          "pie": [
           {
            "automargin": true,
            "type": "pie"
           }
          ],
          "scatter": [
           {
            "fillpattern": {
             "fillmode": "overlay",
             "size": 10,
             "solidity": 0.2
            },
            "type": "scatter"
           }
          ],
          "scatter3d": [
           {
            "line": {
             "colorbar": {
              "outlinewidth": 0,
              "ticks": ""
             }
            },
            "marker": {
             "colorbar": {
              "outlinewidth": 0,
              "ticks": ""
             }
            },
            "type": "scatter3d"
           }
          ],
          "scattercarpet": [
           {
            "marker": {
             "colorbar": {
              "outlinewidth": 0,
              "ticks": ""
             }
            },
            "type": "scattercarpet"
           }
          ],
          "scattergeo": [
           {
            "marker": {
             "colorbar": {
              "outlinewidth": 0,
              "ticks": ""
             }
            },
            "type": "scattergeo"
           }
          ],
          "scattergl": [
           {
            "marker": {
             "colorbar": {
              "outlinewidth": 0,
              "ticks": ""
             }
            },
            "type": "scattergl"
           }
          ],
          "scattermap": [
           {
            "marker": {
             "colorbar": {
              "outlinewidth": 0,
              "ticks": ""
             }
            },
            "type": "scattermap"
           }
          ],
          "scattermapbox": [
           {
            "marker": {
             "colorbar": {
              "outlinewidth": 0,
              "ticks": ""
             }
            },
            "type": "scattermapbox"
           }
          ],
          "scatterpolar": [
           {
            "marker": {
             "colorbar": {
              "outlinewidth": 0,
              "ticks": ""
             }
            },
            "type": "scatterpolar"
           }
          ],
          "scatterpolargl": [
           {
            "marker": {
             "colorbar": {
              "outlinewidth": 0,
              "ticks": ""
             }
            },
            "type": "scatterpolargl"
           }
          ],
          "scatterternary": [
           {
            "marker": {
             "colorbar": {
              "outlinewidth": 0,
              "ticks": ""
             }
            },
            "type": "scatterternary"
           }
          ],
          "surface": [
           {
            "colorbar": {
             "outlinewidth": 0,
             "ticks": ""
            },
            "colorscale": [
             [
              0,
              "#0d0887"
             ],
             [
              0.1111111111111111,
              "#46039f"
             ],
             [
              0.2222222222222222,
              "#7201a8"
             ],
             [
              0.3333333333333333,
              "#9c179e"
             ],
             [
              0.4444444444444444,
              "#bd3786"
             ],
             [
              0.5555555555555556,
              "#d8576b"
             ],
             [
              0.6666666666666666,
              "#ed7953"
             ],
             [
              0.7777777777777778,
              "#fb9f3a"
             ],
             [
              0.8888888888888888,
              "#fdca26"
             ],
             [
              1,
              "#f0f921"
             ]
            ],
            "type": "surface"
           }
          ],
          "table": [
           {
            "cells": {
             "fill": {
              "color": "#EBF0F8"
             },
             "line": {
              "color": "white"
             }
            },
            "header": {
             "fill": {
              "color": "#C8D4E3"
             },
             "line": {
              "color": "white"
             }
            },
            "type": "table"
           }
          ]
         },
         "layout": {
          "annotationdefaults": {
           "arrowcolor": "#2a3f5f",
           "arrowhead": 0,
           "arrowwidth": 1
          },
          "autotypenumbers": "strict",
          "coloraxis": {
           "colorbar": {
            "outlinewidth": 0,
            "ticks": ""
           }
          },
          "colorscale": {
           "diverging": [
            [
             0,
             "#8e0152"
            ],
            [
             0.1,
             "#c51b7d"
            ],
            [
             0.2,
             "#de77ae"
            ],
            [
             0.3,
             "#f1b6da"
            ],
            [
             0.4,
             "#fde0ef"
            ],
            [
             0.5,
             "#f7f7f7"
            ],
            [
             0.6,
             "#e6f5d0"
            ],
            [
             0.7,
             "#b8e186"
            ],
            [
             0.8,
             "#7fbc41"
            ],
            [
             0.9,
             "#4d9221"
            ],
            [
             1,
             "#276419"
            ]
           ],
           "sequential": [
            [
             0,
             "#0d0887"
            ],
            [
             0.1111111111111111,
             "#46039f"
            ],
            [
             0.2222222222222222,
             "#7201a8"
            ],
            [
             0.3333333333333333,
             "#9c179e"
            ],
            [
             0.4444444444444444,
             "#bd3786"
            ],
            [
             0.5555555555555556,
             "#d8576b"
            ],
            [
             0.6666666666666666,
             "#ed7953"
            ],
            [
             0.7777777777777778,
             "#fb9f3a"
            ],
            [
             0.8888888888888888,
             "#fdca26"
            ],
            [
             1,
             "#f0f921"
            ]
           ],
           "sequentialminus": [
            [
             0,
             "#0d0887"
            ],
            [
             0.1111111111111111,
             "#46039f"
            ],
            [
             0.2222222222222222,
             "#7201a8"
            ],
            [
             0.3333333333333333,
             "#9c179e"
            ],
            [
             0.4444444444444444,
             "#bd3786"
            ],
            [
             0.5555555555555556,
             "#d8576b"
            ],
            [
             0.6666666666666666,
             "#ed7953"
            ],
            [
             0.7777777777777778,
             "#fb9f3a"
            ],
            [
             0.8888888888888888,
             "#fdca26"
            ],
            [
             1,
             "#f0f921"
            ]
           ]
          },
          "colorway": [
           "#636efa",
           "#EF553B",
           "#00cc96",
           "#ab63fa",
           "#FFA15A",
           "#19d3f3",
           "#FF6692",
           "#B6E880",
           "#FF97FF",
           "#FECB52"
          ],
          "font": {
           "color": "#2a3f5f"
          },
          "geo": {
           "bgcolor": "white",
           "lakecolor": "white",
           "landcolor": "#E5ECF6",
           "showlakes": true,
           "showland": true,
           "subunitcolor": "white"
          },
          "hoverlabel": {
           "align": "left"
          },
          "hovermode": "closest",
          "mapbox": {
           "style": "light"
          },
          "paper_bgcolor": "white",
          "plot_bgcolor": "#E5ECF6",
          "polar": {
           "angularaxis": {
            "gridcolor": "white",
            "linecolor": "white",
            "ticks": ""
           },
           "bgcolor": "#E5ECF6",
           "radialaxis": {
            "gridcolor": "white",
            "linecolor": "white",
            "ticks": ""
           }
          },
          "scene": {
           "xaxis": {
            "backgroundcolor": "#E5ECF6",
            "gridcolor": "white",
            "gridwidth": 2,
            "linecolor": "white",
            "showbackground": true,
            "ticks": "",
            "zerolinecolor": "white"
           },
           "yaxis": {
            "backgroundcolor": "#E5ECF6",
            "gridcolor": "white",
            "gridwidth": 2,
            "linecolor": "white",
            "showbackground": true,
            "ticks": "",
            "zerolinecolor": "white"
           },
           "zaxis": {
            "backgroundcolor": "#E5ECF6",
            "gridcolor": "white",
            "gridwidth": 2,
            "linecolor": "white",
            "showbackground": true,
            "ticks": "",
            "zerolinecolor": "white"
           }
          },
          "shapedefaults": {
           "line": {
            "color": "#2a3f5f"
           }
          },
          "ternary": {
           "aaxis": {
            "gridcolor": "white",
            "linecolor": "white",
            "ticks": ""
           },
           "baxis": {
            "gridcolor": "white",
            "linecolor": "white",
            "ticks": ""
           },
           "bgcolor": "#E5ECF6",
           "caxis": {
            "gridcolor": "white",
            "linecolor": "white",
            "ticks": ""
           }
          },
          "title": {
           "x": 0.05
          },
          "xaxis": {
           "automargin": true,
           "gridcolor": "white",
           "linecolor": "white",
           "ticks": "",
           "title": {
            "standoff": 15
           },
           "zerolinecolor": "white",
           "zerolinewidth": 2
          },
          "yaxis": {
           "automargin": true,
           "gridcolor": "white",
           "linecolor": "white",
           "ticks": "",
           "title": {
            "standoff": 15
           },
           "zerolinecolor": "white",
           "zerolinewidth": 2
          }
         }
        },
        "width": 1200
       }
      }
     },
     "metadata": {},
     "output_type": "display_data"
    }
   ],
   "source": [
    "fig = go.Figure(\n",
    "    data = [\n",
    "        go.Candlestick(\n",
    "            x = df.index,\n",
    "            open = df[\"1. open\"],\n",
    "            high = df[\"2. high\"],\n",
    "            low = df[\"3. low\"],\n",
    "            close = df[\"4. close\"]\n",
    "        )\n",
    "    ]\n",
    ")\n",
    "fig.update_layout(width=1200, height=800)\n",
    "\n",
    "fig.show()"
   ]
  },
  {
   "cell_type": "markdown",
   "metadata": {},
   "source": [
    "### Create a class to get stock details for any stock"
   ]
  },
  {
   "cell_type": "code",
   "execution_count": 29,
   "metadata": {},
   "outputs": [],
   "source": [
    "class StockAPI:\n",
    "\n",
    "    def __init__(self):\n",
    "        self.url = \"https://alpha-vantage.p.rapidapi.com/query\"\n",
    "        self.headers = {\n",
    "            \"x-rapidapi-key\": os.getenv(\"API_KEY\"),\n",
    "            \"x-rapidapi-host\": \"alpha-vantage.p.rapidapi.com\",\n",
    "        }\n",
    "\n",
    "    def search_symbol(self, company_name):\n",
    "        querystring = {\n",
    "            \"datatype\": \"json\",\n",
    "            \"keywords\": company_name,\n",
    "            \"function\": \"SYMBOL_SEARCH\",\n",
    "        }\n",
    "        response = requests.get(self.url, headers=self.headers, params=querystring)\n",
    "        return response.json()\n",
    "\n",
    "    def get_stock_data(self, symbol):\n",
    "        querystring = {\n",
    "            \"function\": \"TIME_SERIES_DAILY\",\n",
    "            \"symbol\": symbol,\n",
    "            \"outputsize\": \"compact\",\n",
    "            \"datatype\": \"json\",\n",
    "        }\n",
    "        response = requests.get(url, headers=self.headers, params=querystring)\n",
    "        data = response.json()[\"Time Series (Daily)\"]\n",
    "        df = pd.DataFrame(data).T\n",
    "        df = df.astype(float).round(2)\n",
    "        df.index = pd.to_datetime(df.index)\n",
    "        df.index.name = \"Date\"\n",
    "        return df\n",
    "\n",
    "    def plot_candlestick(self, df):\n",
    "        fig = go.Figure(\n",
    "            data=[\n",
    "                go.Candlestick(\n",
    "                    x=df.index,\n",
    "                    open=df[\"1. open\"],\n",
    "                    high=df[\"2. high\"],\n",
    "                    low=df[\"3. low\"],\n",
    "                    close=df[\"4. close\"],\n",
    "                )\n",
    "            ]\n",
    "        )\n",
    "        fig.update_layout(width=1200, height=800)\n",
    "        fig.show()"
   ]
  },
  {
   "cell_type": "code",
   "execution_count": 30,
   "metadata": {},
   "outputs": [],
   "source": [
    "client = StockAPI()"
   ]
  },
  {
   "cell_type": "code",
   "execution_count": 31,
   "metadata": {},
   "outputs": [
    {
     "data": {
      "text/plain": [
       "{'bestMatches': [{'1. symbol': 'HDB',\n",
       "   '2. name': 'HDFC Bank Ltd',\n",
       "   '3. type': 'Equity',\n",
       "   '4. region': 'United States',\n",
       "   '5. marketOpen': '09:30',\n",
       "   '6. marketClose': '16:00',\n",
       "   '7. timezone': 'UTC-04',\n",
       "   '8. currency': 'USD',\n",
       "   '9. matchScore': '0.8182'},\n",
       "  {'1. symbol': 'HDFCBANK.BSE',\n",
       "   '2. name': 'HDFC Bank Limited',\n",
       "   '3. type': 'Equity',\n",
       "   '4. region': 'India/Bombay',\n",
       "   '5. marketOpen': '09:15',\n",
       "   '6. marketClose': '15:30',\n",
       "   '7. timezone': 'UTC+5.5',\n",
       "   '8. currency': 'INR',\n",
       "   '9. matchScore': '0.8000'},\n",
       "  {'1. symbol': 'H1DB34.SAO',\n",
       "   '2. name': 'HDFC Bank Limited',\n",
       "   '3. type': 'Equity',\n",
       "   '4. region': 'Brazil/Sao Paolo',\n",
       "   '5. marketOpen': '10:00',\n",
       "   '6. marketClose': '17:30',\n",
       "   '7. timezone': 'UTC-03',\n",
       "   '8. currency': 'BRL',\n",
       "   '9. matchScore': '0.6923'},\n",
       "  {'1. symbol': 'HDFA.FRK',\n",
       "   '2. name': 'HDFC Bank Limited',\n",
       "   '3. type': 'Equity',\n",
       "   '4. region': 'Frankfurt',\n",
       "   '5. marketOpen': '08:00',\n",
       "   '6. marketClose': '20:00',\n",
       "   '7. timezone': 'UTC+02',\n",
       "   '8. currency': 'EUR',\n",
       "   '9. matchScore': '0.6923'}]}"
      ]
     },
     "execution_count": 31,
     "metadata": {},
     "output_type": "execute_result"
    }
   ],
   "source": [
    "client.search_symbol(company_name=\"HDFC BANK\")"
   ]
  },
  {
   "cell_type": "code",
   "execution_count": 32,
   "metadata": {},
   "outputs": [],
   "source": [
    "df2 = client.get_stock_data(symbol=\"HDFCBANK.BSE\")"
   ]
  },
  {
   "cell_type": "code",
   "execution_count": 33,
   "metadata": {},
   "outputs": [
    {
     "data": {
      "text/html": [
       "<div>\n",
       "<style scoped>\n",
       "    .dataframe tbody tr th:only-of-type {\n",
       "        vertical-align: middle;\n",
       "    }\n",
       "\n",
       "    .dataframe tbody tr th {\n",
       "        vertical-align: top;\n",
       "    }\n",
       "\n",
       "    .dataframe thead th {\n",
       "        text-align: right;\n",
       "    }\n",
       "</style>\n",
       "<table border=\"1\" class=\"dataframe\">\n",
       "  <thead>\n",
       "    <tr style=\"text-align: right;\">\n",
       "      <th></th>\n",
       "      <th>1. open</th>\n",
       "      <th>2. high</th>\n",
       "      <th>3. low</th>\n",
       "      <th>4. close</th>\n",
       "      <th>5. volume</th>\n",
       "    </tr>\n",
       "    <tr>\n",
       "      <th>Date</th>\n",
       "      <th></th>\n",
       "      <th></th>\n",
       "      <th></th>\n",
       "      <th></th>\n",
       "      <th></th>\n",
       "    </tr>\n",
       "  </thead>\n",
       "  <tbody>\n",
       "    <tr>\n",
       "      <th>2025-02-11</th>\n",
       "      <td>1706.00</td>\n",
       "      <td>1710.55</td>\n",
       "      <td>1688.20</td>\n",
       "      <td>1699.90</td>\n",
       "      <td>395827.0</td>\n",
       "    </tr>\n",
       "    <tr>\n",
       "      <th>2025-02-10</th>\n",
       "      <td>1715.30</td>\n",
       "      <td>1723.75</td>\n",
       "      <td>1708.90</td>\n",
       "      <td>1715.40</td>\n",
       "      <td>189950.0</td>\n",
       "    </tr>\n",
       "    <tr>\n",
       "      <th>2025-02-07</th>\n",
       "      <td>1750.55</td>\n",
       "      <td>1767.40</td>\n",
       "      <td>1725.10</td>\n",
       "      <td>1732.10</td>\n",
       "      <td>368361.0</td>\n",
       "    </tr>\n",
       "    <tr>\n",
       "      <th>2025-02-06</th>\n",
       "      <td>1735.35</td>\n",
       "      <td>1747.45</td>\n",
       "      <td>1724.05</td>\n",
       "      <td>1744.70</td>\n",
       "      <td>166115.0</td>\n",
       "    </tr>\n",
       "    <tr>\n",
       "      <th>2025-02-05</th>\n",
       "      <td>1731.05</td>\n",
       "      <td>1744.00</td>\n",
       "      <td>1718.70</td>\n",
       "      <td>1737.50</td>\n",
       "      <td>229559.0</td>\n",
       "    </tr>\n",
       "    <tr>\n",
       "      <th>...</th>\n",
       "      <td>...</td>\n",
       "      <td>...</td>\n",
       "      <td>...</td>\n",
       "      <td>...</td>\n",
       "      <td>...</td>\n",
       "    </tr>\n",
       "    <tr>\n",
       "      <th>2024-09-26</th>\n",
       "      <td>1778.80</td>\n",
       "      <td>1787.80</td>\n",
       "      <td>1768.10</td>\n",
       "      <td>1782.30</td>\n",
       "      <td>327890.0</td>\n",
       "    </tr>\n",
       "    <tr>\n",
       "      <th>2024-09-25</th>\n",
       "      <td>1762.65</td>\n",
       "      <td>1787.90</td>\n",
       "      <td>1760.90</td>\n",
       "      <td>1778.85</td>\n",
       "      <td>3498766.0</td>\n",
       "    </tr>\n",
       "    <tr>\n",
       "      <th>2024-09-24</th>\n",
       "      <td>1764.00</td>\n",
       "      <td>1781.80</td>\n",
       "      <td>1754.00</td>\n",
       "      <td>1768.45</td>\n",
       "      <td>249810.0</td>\n",
       "    </tr>\n",
       "    <tr>\n",
       "      <th>2024-09-23</th>\n",
       "      <td>1742.20</td>\n",
       "      <td>1766.65</td>\n",
       "      <td>1739.95</td>\n",
       "      <td>1759.25</td>\n",
       "      <td>979531.0</td>\n",
       "    </tr>\n",
       "    <tr>\n",
       "      <th>2024-09-20</th>\n",
       "      <td>1715.25</td>\n",
       "      <td>1745.00</td>\n",
       "      <td>1707.55</td>\n",
       "      <td>1742.15</td>\n",
       "      <td>1837269.0</td>\n",
       "    </tr>\n",
       "  </tbody>\n",
       "</table>\n",
       "<p>100 rows × 5 columns</p>\n",
       "</div>"
      ],
      "text/plain": [
       "            1. open  2. high   3. low  4. close  5. volume\n",
       "Date                                                      \n",
       "2025-02-11  1706.00  1710.55  1688.20   1699.90   395827.0\n",
       "2025-02-10  1715.30  1723.75  1708.90   1715.40   189950.0\n",
       "2025-02-07  1750.55  1767.40  1725.10   1732.10   368361.0\n",
       "2025-02-06  1735.35  1747.45  1724.05   1744.70   166115.0\n",
       "2025-02-05  1731.05  1744.00  1718.70   1737.50   229559.0\n",
       "...             ...      ...      ...       ...        ...\n",
       "2024-09-26  1778.80  1787.80  1768.10   1782.30   327890.0\n",
       "2024-09-25  1762.65  1787.90  1760.90   1778.85  3498766.0\n",
       "2024-09-24  1764.00  1781.80  1754.00   1768.45   249810.0\n",
       "2024-09-23  1742.20  1766.65  1739.95   1759.25   979531.0\n",
       "2024-09-20  1715.25  1745.00  1707.55   1742.15  1837269.0\n",
       "\n",
       "[100 rows x 5 columns]"
      ]
     },
     "execution_count": 33,
     "metadata": {},
     "output_type": "execute_result"
    }
   ],
   "source": [
    "df2"
   ]
  },
  {
   "cell_type": "code",
   "execution_count": 34,
   "metadata": {},
   "outputs": [],
   "source": [
    "df2.to_csv(\"HDFCPrice.csv\")"
   ]
  },
  {
   "cell_type": "code",
   "execution_count": 35,
   "metadata": {},
   "outputs": [
    {
     "data": {
      "application/vnd.plotly.v1+json": {
       "config": {
        "plotlyServerURL": "https://plot.ly"
       },
       "data": [
        {
         "close": {
          "bdata": "mpmZmZmPmkCamZmZmc2aQGZmZmZmEJtAzczMzMxCm0AAAAAAACabQAAAAAAA6ZpAmpmZmZlAmkBmZmZmZmeaQAAAAAAAjZpAZmZmZmZwmkBmZmZmZjSaQDMzMzMzGppAzczMzMx2mUAzMzMzM8aZQDMzMzMzA5pAMzMzMzMEmkAAAAAAAKeZQAAAAAAAzZlAzczMzMySmUAAAAAAANOZQAAAAAAAq5lAAAAAAACxmUBmZmZmZniZQJqZmZmZ5JlAAAAAAAAPmkCamZmZmXiaQGZmZmZmyJpAMzMzMzO5mkAzMzMzM1WbQGZmZmZmBZxAzczMzMzZm0DNzMzMzLGbQM3MzMzMyptAZmZmZmYXnEAAAAAAAP+bQJqZmZmZFpxAAAAAAAAknEAzMzMzM7CbQM3MzMzMBZxAzczMzMxMnEBmZmZmZqOcQDMzMzMzI51AMzMzMzNAnUDNzMzMzAudQM3MzMzMHp1AMzMzMzMwnUAzMzMzMzedQAAAAAAAAp1AMzMzMzMfnUAzMzMzMxCdQGZmZmZmi5xAMzMzMzMynECamZmZmRacQJqZmZmZA5xAAAAAAABMnECamZmZmeWbQGZmZmZm4ptAzczMzMxHm0DNzMzMzDebQAAAAAAAOZtAAAAAAACimkBmZmZmZnSaQAAAAAAARZpAZmZmZmbZmkBmZmZmZpqbQDMzMzMzaptAmpmZmZlIm0CamZmZmWibQM3MzMzMd5tAMzMzMzPImkAzMzMzMyebQM3MzMzMG5tAAAAAAAAcm0AAAAAAAFybQDMzMzMzGZtAZmZmZmY6m0BmZmZmZlibQM3MzMzMHptAZmZmZmbImkAzMzMzMwObQJqZmZmZRJpAZmZmZmYlmkDNzMzMzI+aQJqZmZmZUZpAAAAAAABimkAAAAAAAMmZQDMzMzMz+ZlAzczMzMyGmUAzMzMzM82ZQJqZmZmZTplAMzMzMzPjmUCamZmZmUiaQJqZmZmZ+JpAAAAAAAAQm0BmZmZmZmObQDMzMzMz2ZtAZmZmZmbLm0DNzMzMzKGbQAAAAAAAfZtAmpmZmZk4m0A=",
          "dtype": "f8"
         },
         "high": {
          "bdata": "MzMzMzO6mkAAAAAAAO+aQJqZmZmZnZtAzczMzMxNm0AAAAAAAECbQAAAAAAA+JpAmpmZmZlamkBmZmZmZsKaQAAAAAAAn5pAMzMzMzOBmkAzMzMzM0WaQAAAAAAAUJpAZmZmZmammUCamZmZmRqaQAAAAAAAVJpAZmZmZmYfmkDNzMzMzPGZQAAAAAAA85lAmpmZmZnImUAAAAAAAPCZQJqZmZmZ+plAAAAAAADhmUDNzMzMzLmZQAAAAAAALJpAmpmZmZlmmkAzMzMzM8CaQM3MzMzM5ZpAzczMzMx1m0AzMzMzMwucQAAAAAAALJxAmpmZmZkJnEBmZmZmZtWbQAAAAAAAXJxAAAAAAAAsnECamZmZmU2cQJqZmZmZOJxAmpmZmZk3nEBmZmZmZhWcQM3MzMzMIJxAmpmZmZmunEAAAAAAABmdQAAAAAAAOJ1AMzMzMzNKnUCamZmZmTKdQDMzMzMzPJ1AAAAAAABMnUAAAAAAAGCdQJqZmZmZIJ1AAAAAAABcnUAAAAAAACSdQAAAAAAAtJxAAAAAAABAnEAAAAAAADGcQDMzMzMzsJxAzczMzMxknEBmZmZmZjCcQJqZmZmZJ5xAMzMzMzNnm0AAAAAAAHubQJqZmZmZZptAMzMzMzPbmkBmZmZmZqKaQAAAAAAABJtAAAAAAAC1m0AAAAAAANqbQM3MzMzMhZtAZmZmZmaAm0AAAAAAALCbQAAAAAAAiptAZmZmZmY+m0DNzMzMzFObQJqZmZmZLptAAAAAAABsm0DNzMzMzI6bQJqZmZmZW5tAZmZmZmZ5m0CamZmZmaKbQM3MzMzMSZtAAAAAAAAwm0DNzMzMzFCbQAAAAAAAbJpAAAAAAACJmkDNzMzMzK6aQAAAAAAAiJpAAAAAAABwmkAzMzMzMwSaQAAAAAAABJpAMzMzMzPimUAAAAAAAOSZQDMzMzMz75lAmpmZmZlpmkCamZmZmfeaQAAAAAAAOJtAAAAAAABgm0BmZmZmZsibQDMzMzMz75tAmpmZmZnvm0AzMzMzM9ebQJqZmZmZmptAAAAAAABEm0A=",
          "dtype": "f8"
         },
         "low": {
          "bdata": "zczMzMxgmkCamZmZmbOaQGZmZmZm9JpAMzMzMzPwmkDNzMzMzNqaQM3MzMzMQJpAMzMzMzMEmkAAAAAAADGaQDMzMzMzUJpAMzMzMzMmmkBmZmZmZhOaQAAAAAAAsJlAmpmZmZlpmUAAAAAAALSZQAAAAAAAz5lAMzMzMzNlmUAAAAAAAIOZQAAAAAAAcJlAAAAAAABzmUAAAAAAAK2ZQAAAAAAAkZlAAAAAAACMmUAAAAAAAGGZQJqZmZmZ2JlAZmZmZmbrmUAAAAAAAEyaQAAAAAAAkJpAAAAAAACkmkAzMzMzM0mbQGZmZmZmuJtAAAAAAACIm0AAAAAAAKCbQGZmZmZmrZtAAAAAAAD2m0AAAAAAANebQGZmZmZm9JtAAAAAAADQm0CamZmZmZubQAAAAAAAzJtAzczMzMw9nEBmZmZmZomcQGZmZmZm/JxAAAAAAACUnEBmZmZmZuWcQAAAAAAABJ1AmpmZmZkKnUAzMzMzM+acQM3MzMzMzpxAmpmZmZmvnEDNzMzMzJycQJqZmZmZYZxAAAAAAAC8m0BmZmZmZtybQAAAAAAA8JtAMzMzMzPlm0AAAAAAAKibQAAAAAAAlJtAMzMzMzMFm0DNzMzMzBabQAAAAAAAoJpAZmZmZmZ6mkAAAAAAACiaQAAAAAAAIppAMzMzMzOzmkAzMzMzM16bQJqZmZmZSJtAMzMzMzMnm0AAAAAAAEWbQAAAAAAAiJpAAAAAAAC4mkAAAAAAAAObQDMzMzMz3JpAmpmZmZnxmkBmZmZmZvSaQM3MzMzMA5tAAAAAAAAEm0AzMzMzMyabQDMzMzMzmZpAzczMzMy7mkAAAAAAALqaQDMzMzMz2JlAmpmZmZkEmkAzMzMzMzaaQJqZmZmZLppAzczMzMzbmUDNzMzMzKyZQAAAAAAAhJlAAAAAAAB0mUCamZmZmU6ZQJqZmZmZNZlAmpmZmZnRmUAzMzMzMyeaQDMzMzMz4JpAAAAAAADwmkAAAAAAAFibQGZmZmZmoJtAmpmZmZmDm0AAAAAAAGibQM3MzMzML5tAMzMzMzOumkA=",
          "dtype": "f8"
         },
         "open": {
          "bdata": "AAAAAAComkAzMzMzM82aQDMzMzMzWptAZmZmZmYdm0AzMzMzMwybQAAAAAAAaJpAAAAAAAAYmkAzMzMzM4SaQM3MzMzMY5pAZmZmZmY1mkAAAAAAACyaQAAAAAAAsJlAAAAAAACgmUDNzMzMzP+ZQM3MzMzMSppAzczMzMyzmUAAAAAAAPCZQM3MzMzMg5lAzczMzMyzmUAAAAAAAN+ZQAAAAAAA6JlAAAAAAACMmUAAAAAAAKCZQAAAAAAAGJpAmpmZmZlmmkAAAAAAALyaQGZmZmZmuZpAmpmZmZkvm0AzMzMzMwucQAAAAAAA0ptAAAAAAAC8m0AzMzMzM6ibQM3MzMzMC5xAAAAAAAD5m0AAAAAAABacQM3MzMzML5xAAAAAAADQm0DNzMzMzO+bQDMzMzMzDJxAAAAAAACinEAzMzMzMwCdQAAAAAAAHJ1AzczMzMz8nEDNzMzMzOecQAAAAAAAJJ1AAAAAAAA5nUAzMzMzM/ScQAAAAAAAD51AAAAAAAAYnUAAAAAAALicQJqZmZmZb5xAmpmZmZkWnEAzMzMzMwicQAAAAAAAaJxAmpmZmZnsm0AAAAAAACCcQAAAAAAAzJtAmpmZmZkwm0AzMzMzM3CbQDMzMzMzzJpAzczMzMyomkDNzMzMzCuaQDMzMzMzvZpAzczMzMycm0AAAAAAAGSbQDMzMzMzTJtAzczMzMxXm0DNzMzMzJSbQM3MzMzMr5pAmpmZmZk1m0DNzMzMzFObQAAAAAAACJtAzczMzMxPm0BmZmZmZvSaQDMzMzMzK5tAAAAAAAB0m0AzMzMzMyabQDMzMzMzmZpAAAAAAAAEm0AzMzMzM+CaQJqZmZmZ+ZlAmpmZmZlxmkAzMzMzMzaaQDMzMzMzcppAAAAAAADomUAAAAAAAACaQAAAAAAArJlAzczMzMzPmUCamZmZmU6ZQM3MzMzM25lAzczMzMwTmkAzMzMzM7iaQGZmZmZm8JpAAAAAAABcm0BmZmZmZsibQDMzMzMzy5tAmpmZmZmKm0AAAAAAAJCbQM3MzMzMOJtAAAAAAADNmkA=",
          "dtype": "f8"
         },
         "type": "candlestick",
         "x": [
          "2025-02-11T00:00:00.000000000",
          "2025-02-10T00:00:00.000000000",
          "2025-02-07T00:00:00.000000000",
          "2025-02-06T00:00:00.000000000",
          "2025-02-05T00:00:00.000000000",
          "2025-02-04T00:00:00.000000000",
          "2025-02-03T00:00:00.000000000",
          "2025-02-01T00:00:00.000000000",
          "2025-01-31T00:00:00.000000000",
          "2025-01-30T00:00:00.000000000",
          "2025-01-29T00:00:00.000000000",
          "2025-01-28T00:00:00.000000000",
          "2025-01-27T00:00:00.000000000",
          "2025-01-24T00:00:00.000000000",
          "2025-01-23T00:00:00.000000000",
          "2025-01-22T00:00:00.000000000",
          "2025-01-21T00:00:00.000000000",
          "2025-01-20T00:00:00.000000000",
          "2025-01-17T00:00:00.000000000",
          "2025-01-16T00:00:00.000000000",
          "2025-01-15T00:00:00.000000000",
          "2025-01-14T00:00:00.000000000",
          "2025-01-13T00:00:00.000000000",
          "2025-01-10T00:00:00.000000000",
          "2025-01-09T00:00:00.000000000",
          "2025-01-08T00:00:00.000000000",
          "2025-01-07T00:00:00.000000000",
          "2025-01-06T00:00:00.000000000",
          "2025-01-03T00:00:00.000000000",
          "2025-01-02T00:00:00.000000000",
          "2025-01-01T00:00:00.000000000",
          "2024-12-31T00:00:00.000000000",
          "2024-12-30T00:00:00.000000000",
          "2024-12-27T00:00:00.000000000",
          "2024-12-26T00:00:00.000000000",
          "2024-12-24T00:00:00.000000000",
          "2024-12-23T00:00:00.000000000",
          "2024-12-20T00:00:00.000000000",
          "2024-12-19T00:00:00.000000000",
          "2024-12-18T00:00:00.000000000",
          "2024-12-17T00:00:00.000000000",
          "2024-12-16T00:00:00.000000000",
          "2024-12-13T00:00:00.000000000",
          "2024-12-12T00:00:00.000000000",
          "2024-12-11T00:00:00.000000000",
          "2024-12-10T00:00:00.000000000",
          "2024-12-09T00:00:00.000000000",
          "2024-12-06T00:00:00.000000000",
          "2024-12-05T00:00:00.000000000",
          "2024-12-04T00:00:00.000000000",
          "2024-12-03T00:00:00.000000000",
          "2024-12-02T00:00:00.000000000",
          "2024-11-29T00:00:00.000000000",
          "2024-11-28T00:00:00.000000000",
          "2024-11-27T00:00:00.000000000",
          "2024-11-26T00:00:00.000000000",
          "2024-11-25T00:00:00.000000000",
          "2024-11-22T00:00:00.000000000",
          "2024-11-21T00:00:00.000000000",
          "2024-11-19T00:00:00.000000000",
          "2024-11-18T00:00:00.000000000",
          "2024-11-14T00:00:00.000000000",
          "2024-11-13T00:00:00.000000000",
          "2024-11-12T00:00:00.000000000",
          "2024-11-11T00:00:00.000000000",
          "2024-11-08T00:00:00.000000000",
          "2024-11-07T00:00:00.000000000",
          "2024-11-06T00:00:00.000000000",
          "2024-11-05T00:00:00.000000000",
          "2024-11-04T00:00:00.000000000",
          "2024-11-01T00:00:00.000000000",
          "2024-10-31T00:00:00.000000000",
          "2024-10-30T00:00:00.000000000",
          "2024-10-29T00:00:00.000000000",
          "2024-10-28T00:00:00.000000000",
          "2024-10-25T00:00:00.000000000",
          "2024-10-24T00:00:00.000000000",
          "2024-10-23T00:00:00.000000000",
          "2024-10-22T00:00:00.000000000",
          "2024-10-21T00:00:00.000000000",
          "2024-10-18T00:00:00.000000000",
          "2024-10-17T00:00:00.000000000",
          "2024-10-16T00:00:00.000000000",
          "2024-10-15T00:00:00.000000000",
          "2024-10-14T00:00:00.000000000",
          "2024-10-11T00:00:00.000000000",
          "2024-10-10T00:00:00.000000000",
          "2024-10-09T00:00:00.000000000",
          "2024-10-08T00:00:00.000000000",
          "2024-10-07T00:00:00.000000000",
          "2024-10-04T00:00:00.000000000",
          "2024-10-03T00:00:00.000000000",
          "2024-10-01T00:00:00.000000000",
          "2024-09-30T00:00:00.000000000",
          "2024-09-27T00:00:00.000000000",
          "2024-09-26T00:00:00.000000000",
          "2024-09-25T00:00:00.000000000",
          "2024-09-24T00:00:00.000000000",
          "2024-09-23T00:00:00.000000000",
          "2024-09-20T00:00:00.000000000"
         ]
        }
       ],
       "layout": {
        "height": 800,
        "template": {
         "data": {
          "bar": [
           {
            "error_x": {
             "color": "#2a3f5f"
            },
            "error_y": {
             "color": "#2a3f5f"
            },
            "marker": {
             "line": {
              "color": "#E5ECF6",
              "width": 0.5
             },
             "pattern": {
              "fillmode": "overlay",
              "size": 10,
              "solidity": 0.2
             }
            },
            "type": "bar"
           }
          ],
          "barpolar": [
           {
            "marker": {
             "line": {
              "color": "#E5ECF6",
              "width": 0.5
             },
             "pattern": {
              "fillmode": "overlay",
              "size": 10,
              "solidity": 0.2
             }
            },
            "type": "barpolar"
           }
          ],
          "carpet": [
           {
            "aaxis": {
             "endlinecolor": "#2a3f5f",
             "gridcolor": "white",
             "linecolor": "white",
             "minorgridcolor": "white",
             "startlinecolor": "#2a3f5f"
            },
            "baxis": {
             "endlinecolor": "#2a3f5f",
             "gridcolor": "white",
             "linecolor": "white",
             "minorgridcolor": "white",
             "startlinecolor": "#2a3f5f"
            },
            "type": "carpet"
           }
          ],
          "choropleth": [
           {
            "colorbar": {
             "outlinewidth": 0,
             "ticks": ""
            },
            "type": "choropleth"
           }
          ],
          "contour": [
           {
            "colorbar": {
             "outlinewidth": 0,
             "ticks": ""
            },
            "colorscale": [
             [
              0,
              "#0d0887"
             ],
             [
              0.1111111111111111,
              "#46039f"
             ],
             [
              0.2222222222222222,
              "#7201a8"
             ],
             [
              0.3333333333333333,
              "#9c179e"
             ],
             [
              0.4444444444444444,
              "#bd3786"
             ],
             [
              0.5555555555555556,
              "#d8576b"
             ],
             [
              0.6666666666666666,
              "#ed7953"
             ],
             [
              0.7777777777777778,
              "#fb9f3a"
             ],
             [
              0.8888888888888888,
              "#fdca26"
             ],
             [
              1,
              "#f0f921"
             ]
            ],
            "type": "contour"
           }
          ],
          "contourcarpet": [
           {
            "colorbar": {
             "outlinewidth": 0,
             "ticks": ""
            },
            "type": "contourcarpet"
           }
          ],
          "heatmap": [
           {
            "colorbar": {
             "outlinewidth": 0,
             "ticks": ""
            },
            "colorscale": [
             [
              0,
              "#0d0887"
             ],
             [
              0.1111111111111111,
              "#46039f"
             ],
             [
              0.2222222222222222,
              "#7201a8"
             ],
             [
              0.3333333333333333,
              "#9c179e"
             ],
             [
              0.4444444444444444,
              "#bd3786"
             ],
             [
              0.5555555555555556,
              "#d8576b"
             ],
             [
              0.6666666666666666,
              "#ed7953"
             ],
             [
              0.7777777777777778,
              "#fb9f3a"
             ],
             [
              0.8888888888888888,
              "#fdca26"
             ],
             [
              1,
              "#f0f921"
             ]
            ],
            "type": "heatmap"
           }
          ],
          "histogram": [
           {
            "marker": {
             "pattern": {
              "fillmode": "overlay",
              "size": 10,
              "solidity": 0.2
             }
            },
            "type": "histogram"
           }
          ],
          "histogram2d": [
           {
            "colorbar": {
             "outlinewidth": 0,
             "ticks": ""
            },
            "colorscale": [
             [
              0,
              "#0d0887"
             ],
             [
              0.1111111111111111,
              "#46039f"
             ],
             [
              0.2222222222222222,
              "#7201a8"
             ],
             [
              0.3333333333333333,
              "#9c179e"
             ],
             [
              0.4444444444444444,
              "#bd3786"
             ],
             [
              0.5555555555555556,
              "#d8576b"
             ],
             [
              0.6666666666666666,
              "#ed7953"
             ],
             [
              0.7777777777777778,
              "#fb9f3a"
             ],
             [
              0.8888888888888888,
              "#fdca26"
             ],
             [
              1,
              "#f0f921"
             ]
            ],
            "type": "histogram2d"
           }
          ],
          "histogram2dcontour": [
           {
            "colorbar": {
             "outlinewidth": 0,
             "ticks": ""
            },
            "colorscale": [
             [
              0,
              "#0d0887"
             ],
             [
              0.1111111111111111,
              "#46039f"
             ],
             [
              0.2222222222222222,
              "#7201a8"
             ],
             [
              0.3333333333333333,
              "#9c179e"
             ],
             [
              0.4444444444444444,
              "#bd3786"
             ],
             [
              0.5555555555555556,
              "#d8576b"
             ],
             [
              0.6666666666666666,
              "#ed7953"
             ],
             [
              0.7777777777777778,
              "#fb9f3a"
             ],
             [
              0.8888888888888888,
              "#fdca26"
             ],
             [
              1,
              "#f0f921"
             ]
            ],
            "type": "histogram2dcontour"
           }
          ],
          "mesh3d": [
           {
            "colorbar": {
             "outlinewidth": 0,
             "ticks": ""
            },
            "type": "mesh3d"
           }
          ],
          "parcoords": [
           {
            "line": {
             "colorbar": {
              "outlinewidth": 0,
              "ticks": ""
             }
            },
            "type": "parcoords"
           }
          ],
          "pie": [
           {
            "automargin": true,
            "type": "pie"
           }
          ],
          "scatter": [
           {
            "fillpattern": {
             "fillmode": "overlay",
             "size": 10,
             "solidity": 0.2
            },
            "type": "scatter"
           }
          ],
          "scatter3d": [
           {
            "line": {
             "colorbar": {
              "outlinewidth": 0,
              "ticks": ""
             }
            },
            "marker": {
             "colorbar": {
              "outlinewidth": 0,
              "ticks": ""
             }
            },
            "type": "scatter3d"
           }
          ],
          "scattercarpet": [
           {
            "marker": {
             "colorbar": {
              "outlinewidth": 0,
              "ticks": ""
             }
            },
            "type": "scattercarpet"
           }
          ],
          "scattergeo": [
           {
            "marker": {
             "colorbar": {
              "outlinewidth": 0,
              "ticks": ""
             }
            },
            "type": "scattergeo"
           }
          ],
          "scattergl": [
           {
            "marker": {
             "colorbar": {
              "outlinewidth": 0,
              "ticks": ""
             }
            },
            "type": "scattergl"
           }
          ],
          "scattermap": [
           {
            "marker": {
             "colorbar": {
              "outlinewidth": 0,
              "ticks": ""
             }
            },
            "type": "scattermap"
           }
          ],
          "scattermapbox": [
           {
            "marker": {
             "colorbar": {
              "outlinewidth": 0,
              "ticks": ""
             }
            },
            "type": "scattermapbox"
           }
          ],
          "scatterpolar": [
           {
            "marker": {
             "colorbar": {
              "outlinewidth": 0,
              "ticks": ""
             }
            },
            "type": "scatterpolar"
           }
          ],
          "scatterpolargl": [
           {
            "marker": {
             "colorbar": {
              "outlinewidth": 0,
              "ticks": ""
             }
            },
            "type": "scatterpolargl"
           }
          ],
          "scatterternary": [
           {
            "marker": {
             "colorbar": {
              "outlinewidth": 0,
              "ticks": ""
             }
            },
            "type": "scatterternary"
           }
          ],
          "surface": [
           {
            "colorbar": {
             "outlinewidth": 0,
             "ticks": ""
            },
            "colorscale": [
             [
              0,
              "#0d0887"
             ],
             [
              0.1111111111111111,
              "#46039f"
             ],
             [
              0.2222222222222222,
              "#7201a8"
             ],
             [
              0.3333333333333333,
              "#9c179e"
             ],
             [
              0.4444444444444444,
              "#bd3786"
             ],
             [
              0.5555555555555556,
              "#d8576b"
             ],
             [
              0.6666666666666666,
              "#ed7953"
             ],
             [
              0.7777777777777778,
              "#fb9f3a"
             ],
             [
              0.8888888888888888,
              "#fdca26"
             ],
             [
              1,
              "#f0f921"
             ]
            ],
            "type": "surface"
           }
          ],
          "table": [
           {
            "cells": {
             "fill": {
              "color": "#EBF0F8"
             },
             "line": {
              "color": "white"
             }
            },
            "header": {
             "fill": {
              "color": "#C8D4E3"
             },
             "line": {
              "color": "white"
             }
            },
            "type": "table"
           }
          ]
         },
         "layout": {
          "annotationdefaults": {
           "arrowcolor": "#2a3f5f",
           "arrowhead": 0,
           "arrowwidth": 1
          },
          "autotypenumbers": "strict",
          "coloraxis": {
           "colorbar": {
            "outlinewidth": 0,
            "ticks": ""
           }
          },
          "colorscale": {
           "diverging": [
            [
             0,
             "#8e0152"
            ],
            [
             0.1,
             "#c51b7d"
            ],
            [
             0.2,
             "#de77ae"
            ],
            [
             0.3,
             "#f1b6da"
            ],
            [
             0.4,
             "#fde0ef"
            ],
            [
             0.5,
             "#f7f7f7"
            ],
            [
             0.6,
             "#e6f5d0"
            ],
            [
             0.7,
             "#b8e186"
            ],
            [
             0.8,
             "#7fbc41"
            ],
            [
             0.9,
             "#4d9221"
            ],
            [
             1,
             "#276419"
            ]
           ],
           "sequential": [
            [
             0,
             "#0d0887"
            ],
            [
             0.1111111111111111,
             "#46039f"
            ],
            [
             0.2222222222222222,
             "#7201a8"
            ],
            [
             0.3333333333333333,
             "#9c179e"
            ],
            [
             0.4444444444444444,
             "#bd3786"
            ],
            [
             0.5555555555555556,
             "#d8576b"
            ],
            [
             0.6666666666666666,
             "#ed7953"
            ],
            [
             0.7777777777777778,
             "#fb9f3a"
            ],
            [
             0.8888888888888888,
             "#fdca26"
            ],
            [
             1,
             "#f0f921"
            ]
           ],
           "sequentialminus": [
            [
             0,
             "#0d0887"
            ],
            [
             0.1111111111111111,
             "#46039f"
            ],
            [
             0.2222222222222222,
             "#7201a8"
            ],
            [
             0.3333333333333333,
             "#9c179e"
            ],
            [
             0.4444444444444444,
             "#bd3786"
            ],
            [
             0.5555555555555556,
             "#d8576b"
            ],
            [
             0.6666666666666666,
             "#ed7953"
            ],
            [
             0.7777777777777778,
             "#fb9f3a"
            ],
            [
             0.8888888888888888,
             "#fdca26"
            ],
            [
             1,
             "#f0f921"
            ]
           ]
          },
          "colorway": [
           "#636efa",
           "#EF553B",
           "#00cc96",
           "#ab63fa",
           "#FFA15A",
           "#19d3f3",
           "#FF6692",
           "#B6E880",
           "#FF97FF",
           "#FECB52"
          ],
          "font": {
           "color": "#2a3f5f"
          },
          "geo": {
           "bgcolor": "white",
           "lakecolor": "white",
           "landcolor": "#E5ECF6",
           "showlakes": true,
           "showland": true,
           "subunitcolor": "white"
          },
          "hoverlabel": {
           "align": "left"
          },
          "hovermode": "closest",
          "mapbox": {
           "style": "light"
          },
          "paper_bgcolor": "white",
          "plot_bgcolor": "#E5ECF6",
          "polar": {
           "angularaxis": {
            "gridcolor": "white",
            "linecolor": "white",
            "ticks": ""
           },
           "bgcolor": "#E5ECF6",
           "radialaxis": {
            "gridcolor": "white",
            "linecolor": "white",
            "ticks": ""
           }
          },
          "scene": {
           "xaxis": {
            "backgroundcolor": "#E5ECF6",
            "gridcolor": "white",
            "gridwidth": 2,
            "linecolor": "white",
            "showbackground": true,
            "ticks": "",
            "zerolinecolor": "white"
           },
           "yaxis": {
            "backgroundcolor": "#E5ECF6",
            "gridcolor": "white",
            "gridwidth": 2,
            "linecolor": "white",
            "showbackground": true,
            "ticks": "",
            "zerolinecolor": "white"
           },
           "zaxis": {
            "backgroundcolor": "#E5ECF6",
            "gridcolor": "white",
            "gridwidth": 2,
            "linecolor": "white",
            "showbackground": true,
            "ticks": "",
            "zerolinecolor": "white"
           }
          },
          "shapedefaults": {
           "line": {
            "color": "#2a3f5f"
           }
          },
          "ternary": {
           "aaxis": {
            "gridcolor": "white",
            "linecolor": "white",
            "ticks": ""
           },
           "baxis": {
            "gridcolor": "white",
            "linecolor": "white",
            "ticks": ""
           },
           "bgcolor": "#E5ECF6",
           "caxis": {
            "gridcolor": "white",
            "linecolor": "white",
            "ticks": ""
           }
          },
          "title": {
           "x": 0.05
          },
          "xaxis": {
           "automargin": true,
           "gridcolor": "white",
           "linecolor": "white",
           "ticks": "",
           "title": {
            "standoff": 15
           },
           "zerolinecolor": "white",
           "zerolinewidth": 2
          },
          "yaxis": {
           "automargin": true,
           "gridcolor": "white",
           "linecolor": "white",
           "ticks": "",
           "title": {
            "standoff": 15
           },
           "zerolinecolor": "white",
           "zerolinewidth": 2
          }
         }
        },
        "width": 1200
       }
      }
     },
     "metadata": {},
     "output_type": "display_data"
    }
   ],
   "source": [
    "client.plot_candlestick(df2)"
   ]
  },
  {
   "cell_type": "markdown",
   "metadata": {},
   "source": [
    "### Get the details for Tesla stock from US"
   ]
  },
  {
   "cell_type": "code",
   "execution_count": 36,
   "metadata": {},
   "outputs": [
    {
     "data": {
      "text/plain": [
       "{'bestMatches': [{'1. symbol': 'TSLA',\n",
       "   '2. name': 'Tesla Inc',\n",
       "   '3. type': 'Equity',\n",
       "   '4. region': 'United States',\n",
       "   '5. marketOpen': '09:30',\n",
       "   '6. marketClose': '16:00',\n",
       "   '7. timezone': 'UTC-04',\n",
       "   '8. currency': 'USD',\n",
       "   '9. matchScore': '0.8889'},\n",
       "  {'1. symbol': 'TL0.DEX',\n",
       "   '2. name': 'Tesla Inc',\n",
       "   '3. type': 'Equity',\n",
       "   '4. region': 'XETRA',\n",
       "   '5. marketOpen': '08:00',\n",
       "   '6. marketClose': '20:00',\n",
       "   '7. timezone': 'UTC+02',\n",
       "   '8. currency': 'EUR',\n",
       "   '9. matchScore': '0.7143'},\n",
       "  {'1. symbol': 'TL0.FRK',\n",
       "   '2. name': 'Tesla Inc',\n",
       "   '3. type': 'Equity',\n",
       "   '4. region': 'Frankfurt',\n",
       "   '5. marketOpen': '08:00',\n",
       "   '6. marketClose': '20:00',\n",
       "   '7. timezone': 'UTC+02',\n",
       "   '8. currency': 'EUR',\n",
       "   '9. matchScore': '0.7143'},\n",
       "  {'1. symbol': 'TSLA34.SAO',\n",
       "   '2. name': 'Tesla Inc',\n",
       "   '3. type': 'Equity',\n",
       "   '4. region': 'Brazil/Sao Paolo',\n",
       "   '5. marketOpen': '10:00',\n",
       "   '6. marketClose': '17:30',\n",
       "   '7. timezone': 'UTC-03',\n",
       "   '8. currency': 'BRL',\n",
       "   '9. matchScore': '0.7143'},\n",
       "  {'1. symbol': 'TSLA.TRT',\n",
       "   '2. name': 'Tesla CDR (CAD Hedged)',\n",
       "   '3. type': 'Equity',\n",
       "   '4. region': 'Toronto',\n",
       "   '5. marketOpen': '09:30',\n",
       "   '6. marketClose': '16:00',\n",
       "   '7. timezone': 'UTC-05',\n",
       "   '8. currency': 'CAD',\n",
       "   '9. matchScore': '0.6667'},\n",
       "  {'1. symbol': 'TL01.FRK',\n",
       "   '2. name': 'TESLA INC. CDR DL-001',\n",
       "   '3. type': 'Equity',\n",
       "   '4. region': 'Frankfurt',\n",
       "   '5. marketOpen': '08:00',\n",
       "   '6. marketClose': '20:00',\n",
       "   '7. timezone': 'UTC+02',\n",
       "   '8. currency': 'EUR',\n",
       "   '9. matchScore': '0.3846'}]}"
      ]
     },
     "execution_count": 36,
     "metadata": {},
     "output_type": "execute_result"
    }
   ],
   "source": [
    "client.search_symbol(company_name=\"Tesla\")"
   ]
  },
  {
   "cell_type": "code",
   "execution_count": 37,
   "metadata": {},
   "outputs": [],
   "source": [
    "df3 = client.get_stock_data(symbol=\"TSLA\")"
   ]
  },
  {
   "cell_type": "code",
   "execution_count": 38,
   "metadata": {},
   "outputs": [
    {
     "data": {
      "text/html": [
       "<div>\n",
       "<style scoped>\n",
       "    .dataframe tbody tr th:only-of-type {\n",
       "        vertical-align: middle;\n",
       "    }\n",
       "\n",
       "    .dataframe tbody tr th {\n",
       "        vertical-align: top;\n",
       "    }\n",
       "\n",
       "    .dataframe thead th {\n",
       "        text-align: right;\n",
       "    }\n",
       "</style>\n",
       "<table border=\"1\" class=\"dataframe\">\n",
       "  <thead>\n",
       "    <tr style=\"text-align: right;\">\n",
       "      <th></th>\n",
       "      <th>1. open</th>\n",
       "      <th>2. high</th>\n",
       "      <th>3. low</th>\n",
       "      <th>4. close</th>\n",
       "      <th>5. volume</th>\n",
       "    </tr>\n",
       "    <tr>\n",
       "      <th>Date</th>\n",
       "      <th></th>\n",
       "      <th></th>\n",
       "      <th></th>\n",
       "      <th></th>\n",
       "      <th></th>\n",
       "    </tr>\n",
       "  </thead>\n",
       "  <tbody>\n",
       "    <tr>\n",
       "      <th>2025-02-11</th>\n",
       "      <td>345.80</td>\n",
       "      <td>349.37</td>\n",
       "      <td>325.10</td>\n",
       "      <td>328.50</td>\n",
       "      <td>118543400.0</td>\n",
       "    </tr>\n",
       "    <tr>\n",
       "      <th>2025-02-10</th>\n",
       "      <td>356.21</td>\n",
       "      <td>362.70</td>\n",
       "      <td>350.51</td>\n",
       "      <td>350.73</td>\n",
       "      <td>77514903.0</td>\n",
       "    </tr>\n",
       "    <tr>\n",
       "      <th>2025-02-07</th>\n",
       "      <td>370.19</td>\n",
       "      <td>380.55</td>\n",
       "      <td>360.34</td>\n",
       "      <td>361.62</td>\n",
       "      <td>70298258.0</td>\n",
       "    </tr>\n",
       "    <tr>\n",
       "      <th>2025-02-06</th>\n",
       "      <td>373.03</td>\n",
       "      <td>375.40</td>\n",
       "      <td>363.18</td>\n",
       "      <td>374.32</td>\n",
       "      <td>77918230.0</td>\n",
       "    </tr>\n",
       "    <tr>\n",
       "      <th>2025-02-05</th>\n",
       "      <td>387.51</td>\n",
       "      <td>388.39</td>\n",
       "      <td>375.53</td>\n",
       "      <td>378.17</td>\n",
       "      <td>57614721.0</td>\n",
       "    </tr>\n",
       "    <tr>\n",
       "      <th>...</th>\n",
       "      <td>...</td>\n",
       "      <td>...</td>\n",
       "      <td>...</td>\n",
       "      <td>...</td>\n",
       "      <td>...</td>\n",
       "    </tr>\n",
       "    <tr>\n",
       "      <th>2024-09-24</th>\n",
       "      <td>254.08</td>\n",
       "      <td>257.19</td>\n",
       "      <td>249.05</td>\n",
       "      <td>254.27</td>\n",
       "      <td>88490999.0</td>\n",
       "    </tr>\n",
       "    <tr>\n",
       "      <th>2024-09-23</th>\n",
       "      <td>242.61</td>\n",
       "      <td>250.00</td>\n",
       "      <td>241.92</td>\n",
       "      <td>250.00</td>\n",
       "      <td>86927194.0</td>\n",
       "    </tr>\n",
       "    <tr>\n",
       "      <th>2024-09-20</th>\n",
       "      <td>241.52</td>\n",
       "      <td>243.99</td>\n",
       "      <td>235.92</td>\n",
       "      <td>238.25</td>\n",
       "      <td>99879070.0</td>\n",
       "    </tr>\n",
       "    <tr>\n",
       "      <th>2024-09-19</th>\n",
       "      <td>234.00</td>\n",
       "      <td>244.24</td>\n",
       "      <td>232.13</td>\n",
       "      <td>243.92</td>\n",
       "      <td>102694576.0</td>\n",
       "    </tr>\n",
       "    <tr>\n",
       "      <th>2024-09-18</th>\n",
       "      <td>230.09</td>\n",
       "      <td>235.68</td>\n",
       "      <td>226.88</td>\n",
       "      <td>227.20</td>\n",
       "      <td>78010204.0</td>\n",
       "    </tr>\n",
       "  </tbody>\n",
       "</table>\n",
       "<p>100 rows × 5 columns</p>\n",
       "</div>"
      ],
      "text/plain": [
       "            1. open  2. high  3. low  4. close    5. volume\n",
       "Date                                                       \n",
       "2025-02-11   345.80   349.37  325.10    328.50  118543400.0\n",
       "2025-02-10   356.21   362.70  350.51    350.73   77514903.0\n",
       "2025-02-07   370.19   380.55  360.34    361.62   70298258.0\n",
       "2025-02-06   373.03   375.40  363.18    374.32   77918230.0\n",
       "2025-02-05   387.51   388.39  375.53    378.17   57614721.0\n",
       "...             ...      ...     ...       ...          ...\n",
       "2024-09-24   254.08   257.19  249.05    254.27   88490999.0\n",
       "2024-09-23   242.61   250.00  241.92    250.00   86927194.0\n",
       "2024-09-20   241.52   243.99  235.92    238.25   99879070.0\n",
       "2024-09-19   234.00   244.24  232.13    243.92  102694576.0\n",
       "2024-09-18   230.09   235.68  226.88    227.20   78010204.0\n",
       "\n",
       "[100 rows x 5 columns]"
      ]
     },
     "execution_count": 38,
     "metadata": {},
     "output_type": "execute_result"
    }
   ],
   "source": [
    "df3"
   ]
  },
  {
   "cell_type": "code",
   "execution_count": 39,
   "metadata": {},
   "outputs": [
    {
     "data": {
      "application/vnd.plotly.v1+json": {
       "config": {
        "plotlyServerURL": "https://plot.ly"
       },
       "data": [
        {
         "close": {
          "bdata": "AAAAAACIdEBI4XoUrut1QFK4HoXrmXZAhetRuB5ld0AfhetRuKJ3QI/C9Shcg3hAexSuR+H6d0CamZmZmUl5QBSuR+F6BHlAmpmZmZlReEA9CtejcOF4QGZmZmZm0nhA4XoUrkdpeUCuR+F6FMZ5QPYoXI/C8XlAhetRuB6BekAAAAAAAKh6QIXrUbge3XlA7FG4HoXDekD2KFyPwsV4QClcj8L1NHlApHA9CtereEDXo3A9Cq94QPYoXI/CpXhAzczMzMyweUDXo3A9Cqd5QBSuR+F6tHdAPQrXo3A9eUDD9ShcjxZ6QMP1KFyP+npArkfhehRifEAUrkfheuR8QJqZmZmZ6XpAKVyPwvVQekAfhetRuEJ7QK5H4XoUgntA9ihcj8L9fUC4HoXrUfB8QEjhehSuQ3tAmpmZmZkhekC4HoXrUYx6QKRwPQrXD3lAcT0K16NceEDsUbgehVN4QKRwPQrXF3dAexSuR+FedkAfhetRuPZ1QD0K16NwUXZAw/UoXI+SdUAK16NwPc50QEjhehSuI3VAPQrXo3ApdUApXI/C9Qh2QArXo3A9OnVAFK5H4XpgdUAAAAAAAKB1QKRwPQrXK3VA7FG4HoULdEB7FK5H4XJzQKRwPQrXo3RApHA9CteHdEAAAAAAAOB1QOxRuB6FE3RAw/UoXI+OckAUrkfheghyQK5H4XoUbm9AexSuR+FabkCPwvUoXB9vQDMzMzMzO29AzczMzMwYcEC4HoXrUThwQFyPwvUoaHBA16NwPQrTcEBI4XoUrkdwQM3MzMzMtGpA16NwPQo/a0AzMzMzM1trQGZmZmZmlmtAFK5H4Xqca0DD9Shcj6prQArXo3A9cmtAhetRuB5la0CamZmZmTlrQHE9Ctej2G1AmpmZmZkhbkAAAAAAAJBuQMP1KFyPGm5Aw/UoXI9Cb0CF61G4HhVuQHE9CtejIG9AuB6F61EgcECuR+F6FFpwQI/C9ShcR3BA16NwPQrHb0C4HoXrURBwQHE9CtejyG9AAAAAAABAb0AAAAAAAMhtQD0K16NwfW5AZmZmZmZmbEA=",
          "dtype": "f8"
         },
         "high": {
          "bdata": "UrgehevVdUAzMzMzM6t2QM3MzMzMyHdAZmZmZmZ2d0AK16NwPUZ4QAAAAAAAoHhAH4XrUbhSeECkcD0K1z96QAAAAAAAyHlAPQrXo3DpeEA9CtejcAl5QNejcD0Ka3lArkfhehQuekBI4XoUrkt6QAAAAAAAwHpAMzMzMzMTe0CkcD0K13t7QAAAAAAAgHpAzczMzMzcekAK16NwPWp6QHE9CtejPHlAFK5H4Xr0eEAAAAAAACh5QOF6FK5H5XlAexSuR+GmekCuR+F6FL55QEjhehSui3hAexSuR+G+ekAAAAAAALB6QAAAAAAAIHxA4XoUrkcVfUAUrkfheux8QFyPwvUoKHtA4XoUrkfxe0D2KFyPwoV8QHE9CtejiH5ApHA9Ctc/fkDXo3A9CvN8QM3MzMzMRHtAzczMzMzUekCuR+F6FI56QEjhehSum3lAzczMzMxMeUCkcD0K11d4QHsUrkfhdndAmpmZmZlhdkDXo3A9Cjt2QAAAAAAAgHZAMzMzMzOXdUDNzMzMzGh1QI/C9Shcr3VAexSuR+GedkAUrkfheph2QKRwPQrXv3VAmpmZmZmpdUCuR+F6FLZ1QM3MzMzMyHVAexSuR+FKdEBI4XoUrp90QJqZmZmZiXVAPQrXo3CddUAK16NwPWp2QI/C9Shci3RAAAAAAAC8ckA9CtejcBlyQClcj8L16G9AzczMzMwcb0AAAAAAAMBvQAAAAAAAPHBAmpmZmZl1cEBI4XoUro9wQHE9CtejGHFApHA9CtfXcEBSuB6F62FwQNejcD0KV2tA16NwPQpHa0CPwvUoXI9rQClcj8L1yGtAw/UoXI/Ca0AK16NwPdprQLgehetRCGxAhetRuB69a0B7FK5H4eprQOF6FK5HWW5A9ihcj8LtbkAfhetRuMZuQMP1KFyPOm9AH4XrUbheb0DhehSuRzlvQIXrUbgeZW9ASOF6FK5/cED2KFyPwo1wQDMzMzMzS3BAAAAAAABccEDNzMzMzBBwQNejcD0KE3BAAAAAAABAb0BI4XoUrn9uQEjhehSuh25A9ihcj8J1bUA=",
          "dtype": "f8"
         },
         "low": {
          "bdata": "mpmZmZlRdEBcj8L1KOh1QD0K16NwhXZAexSuR+GydkAUrkfhenh3QGZmZmZm1ndA9ihcj8Jld0A9CtejcBV5QMP1KFyPBnhASOF6FK4HeEAAAAAAACh4QAAAAAAAUHhAFK5H4XpceUAzMzMzM495QD0K16Nw6XlAKVyPwvVkeUAAAAAAADx6QK5H4XoUknlAw/UoXI9aeUBxPQrXo6h4QIXrUbgewXdAcT0K16OUd0BmZmZmZjZ4QAAAAAAAYHhAMzMzMzMbeUAzMzMzM7d3QHE9CtejUHdAcT0K16MoeUAAAAAAAPx5QAAAAAAAqHpAuB6F61EwfEAK16NwPTJ7QMP1KFyP9nlACtejcD0aekC4HoXrUUB6QFyPwvUosHpAXI/C9SiYfEBmZmZmZkJ7QI/C9Shc+3lAAAAAAADweUCuR+F6FCZ5QJqZmZmZbXhAXI/C9Sigd0DNzMzMzCx3QAAAAAAAeHZAmpmZmZnJdUAzMzMzM8N1QGZmZmZm8nVAZmZmZmbqdEA9CtejcGl0QMP1KFyP+nRAMzMzMzMjdUAzMzMzMxt1QBSuR+F69HRAzczMzMzkdEAAAAAAAMx0QFyPwvUooHRA7FG4HoVTc0BSuB6F62VzQAAAAAAAKHRAKVyPwvU0dEAAAAAAAAB1QMP1KFyPmnJAuB6F61HYcUBSuB6F6zlxQB+F61G4xm5AXI/C9SjcbUBcj8L1KNRuQAAAAAAAKG9ACtejcD36b0C4HoXrUfBvQKRwPQrXY3BACtejcD3qb0DNzMzMzFRuQOxRuB6Fg2pAuB6F61HoakCPwvUoXPdqQI/C9ShcZ2tAzczMzMw8a0D2KFyPwl1rQKRwPQrXI2tASOF6FK63akBcj8L1KMxqQHsUrkfhCm1AuB6F61HwbUBSuB6F6xFuQGZmZmZmFm5Aw/UoXI+SbkBSuB6F67ltQAAAAAAAMG5AKVyPwvUQb0BxPQrXo/hvQKRwPQrXw29AKVyPwvVwb0ApXI/C9YhvQJqZmZmZIW9APQrXo3A9bkA9CtejcH1tQFyPwvUoBG1AXI/C9ShcbEA=",
          "dtype": "f8"
         },
         "open": {
          "bdata": "zczMzMycdUCPwvUoXEN2QNejcD0KI3dAFK5H4XpQd0Bcj8L1KDh4QK5H4XoU6ndAexSuR+EqeEAUrkfhehh5QBSuR+F6rHlAj8L1KFyzeEDD9Shcj854QM3MzMzMrHhAMzMzMzPneUApXI/C9QB6QClcj8L1DHpACtejcD0Ke0AAAAAAAFh6QKRwPQrXd3pAZmZmZmaeeUA9CtejcOV5QI/C9Shc83dAZmZmZmZ2eEAzMzMzM494QOF6FK5HXXlAMzMzMzNzekBI4XoUrtd3QJqZmZmZYXhAcT0K16N8ekBmZmZmZjZ6QLgehetRGHxAw/UoXI8SfUBmZmZmZj57QAAAAAAA8HpAAAAAAACYekCuR+F6FD58QAAAAAAAKH1AZmZmZma+fUA9CtejcJF7QAAAAAAAQHpAPQrXo3CNekAzMzMzM5t5QHsUrkfhinhA9ihcj8LZeEAfhetRuJZ3QFK4HoXrfXZAAAAAAAAQdkDNzMzMzPx1QK5H4XoUBnZA4XoUrkcBdUDNzMzMzFx1QAAAAAAAUHVACtejcD2CdkDhehSuR1F1QClcj8L1fHVAAAAAAACQdUBcj8L1KPx0QEjhehSuS3VAhetRuB5pc0DXo3A9Cnt0QJqZmZmZ/XRApHA9CtdrdUDNzMzMzKR1QArXo3A9snJACtejcD0OckAfhetRuMpxQHsUrkfh6m5AUrgeheuRbkDhehSuR4FvQKRwPQrXH3BAcT0K16MgcEBcj8L1KIhwQAAAAAAA4HBAXI/C9SgAcED2KFyPwpVuQKRwPQrXI2tAUrgehespa0DNzMzMzFxrQB+F61G4lmtAexSuR+Gya0DNzMzMzKxrQLgehetRgGtAXI/C9SiEa0Bcj8L1KIRrQFK4HoXrOW5ACtejcD16bkBSuB6F63FuQAAAAAAAIG9ArkfhehTWbkCPwvUoXI9uQJqZmZmZ8W5AH4XrUbhqcEBxPQrXozBwQK5H4XoUFnBAmpmZmZlJcEDhehSuR5FvQMP1KFyPwm9A7FG4HoVTbkBxPQrXozBuQAAAAAAAQG1AexSuR+HCbEA=",
          "dtype": "f8"
         },
         "type": "candlestick",
         "x": [
          "2025-02-11T00:00:00.000000000",
          "2025-02-10T00:00:00.000000000",
          "2025-02-07T00:00:00.000000000",
          "2025-02-06T00:00:00.000000000",
          "2025-02-05T00:00:00.000000000",
          "2025-02-04T00:00:00.000000000",
          "2025-02-03T00:00:00.000000000",
          "2025-01-31T00:00:00.000000000",
          "2025-01-30T00:00:00.000000000",
          "2025-01-29T00:00:00.000000000",
          "2025-01-28T00:00:00.000000000",
          "2025-01-27T00:00:00.000000000",
          "2025-01-24T00:00:00.000000000",
          "2025-01-23T00:00:00.000000000",
          "2025-01-22T00:00:00.000000000",
          "2025-01-21T00:00:00.000000000",
          "2025-01-17T00:00:00.000000000",
          "2025-01-16T00:00:00.000000000",
          "2025-01-15T00:00:00.000000000",
          "2025-01-14T00:00:00.000000000",
          "2025-01-13T00:00:00.000000000",
          "2025-01-10T00:00:00.000000000",
          "2025-01-08T00:00:00.000000000",
          "2025-01-07T00:00:00.000000000",
          "2025-01-06T00:00:00.000000000",
          "2025-01-03T00:00:00.000000000",
          "2025-01-02T00:00:00.000000000",
          "2024-12-31T00:00:00.000000000",
          "2024-12-30T00:00:00.000000000",
          "2024-12-27T00:00:00.000000000",
          "2024-12-26T00:00:00.000000000",
          "2024-12-24T00:00:00.000000000",
          "2024-12-23T00:00:00.000000000",
          "2024-12-20T00:00:00.000000000",
          "2024-12-19T00:00:00.000000000",
          "2024-12-18T00:00:00.000000000",
          "2024-12-17T00:00:00.000000000",
          "2024-12-16T00:00:00.000000000",
          "2024-12-13T00:00:00.000000000",
          "2024-12-12T00:00:00.000000000",
          "2024-12-11T00:00:00.000000000",
          "2024-12-10T00:00:00.000000000",
          "2024-12-09T00:00:00.000000000",
          "2024-12-06T00:00:00.000000000",
          "2024-12-05T00:00:00.000000000",
          "2024-12-04T00:00:00.000000000",
          "2024-12-03T00:00:00.000000000",
          "2024-12-02T00:00:00.000000000",
          "2024-11-29T00:00:00.000000000",
          "2024-11-27T00:00:00.000000000",
          "2024-11-26T00:00:00.000000000",
          "2024-11-25T00:00:00.000000000",
          "2024-11-22T00:00:00.000000000",
          "2024-11-21T00:00:00.000000000",
          "2024-11-20T00:00:00.000000000",
          "2024-11-19T00:00:00.000000000",
          "2024-11-18T00:00:00.000000000",
          "2024-11-15T00:00:00.000000000",
          "2024-11-14T00:00:00.000000000",
          "2024-11-13T00:00:00.000000000",
          "2024-11-12T00:00:00.000000000",
          "2024-11-11T00:00:00.000000000",
          "2024-11-08T00:00:00.000000000",
          "2024-11-07T00:00:00.000000000",
          "2024-11-06T00:00:00.000000000",
          "2024-11-05T00:00:00.000000000",
          "2024-11-04T00:00:00.000000000",
          "2024-11-01T00:00:00.000000000",
          "2024-10-31T00:00:00.000000000",
          "2024-10-30T00:00:00.000000000",
          "2024-10-29T00:00:00.000000000",
          "2024-10-28T00:00:00.000000000",
          "2024-10-25T00:00:00.000000000",
          "2024-10-24T00:00:00.000000000",
          "2024-10-23T00:00:00.000000000",
          "2024-10-22T00:00:00.000000000",
          "2024-10-21T00:00:00.000000000",
          "2024-10-18T00:00:00.000000000",
          "2024-10-17T00:00:00.000000000",
          "2024-10-16T00:00:00.000000000",
          "2024-10-15T00:00:00.000000000",
          "2024-10-14T00:00:00.000000000",
          "2024-10-11T00:00:00.000000000",
          "2024-10-10T00:00:00.000000000",
          "2024-10-09T00:00:00.000000000",
          "2024-10-08T00:00:00.000000000",
          "2024-10-07T00:00:00.000000000",
          "2024-10-04T00:00:00.000000000",
          "2024-10-03T00:00:00.000000000",
          "2024-10-02T00:00:00.000000000",
          "2024-10-01T00:00:00.000000000",
          "2024-09-30T00:00:00.000000000",
          "2024-09-27T00:00:00.000000000",
          "2024-09-26T00:00:00.000000000",
          "2024-09-25T00:00:00.000000000",
          "2024-09-24T00:00:00.000000000",
          "2024-09-23T00:00:00.000000000",
          "2024-09-20T00:00:00.000000000",
          "2024-09-19T00:00:00.000000000",
          "2024-09-18T00:00:00.000000000"
         ]
        }
       ],
       "layout": {
        "height": 800,
        "template": {
         "data": {
          "bar": [
           {
            "error_x": {
             "color": "#2a3f5f"
            },
            "error_y": {
             "color": "#2a3f5f"
            },
            "marker": {
             "line": {
              "color": "#E5ECF6",
              "width": 0.5
             },
             "pattern": {
              "fillmode": "overlay",
              "size": 10,
              "solidity": 0.2
             }
            },
            "type": "bar"
           }
          ],
          "barpolar": [
           {
            "marker": {
             "line": {
              "color": "#E5ECF6",
              "width": 0.5
             },
             "pattern": {
              "fillmode": "overlay",
              "size": 10,
              "solidity": 0.2
             }
            },
            "type": "barpolar"
           }
          ],
          "carpet": [
           {
            "aaxis": {
             "endlinecolor": "#2a3f5f",
             "gridcolor": "white",
             "linecolor": "white",
             "minorgridcolor": "white",
             "startlinecolor": "#2a3f5f"
            },
            "baxis": {
             "endlinecolor": "#2a3f5f",
             "gridcolor": "white",
             "linecolor": "white",
             "minorgridcolor": "white",
             "startlinecolor": "#2a3f5f"
            },
            "type": "carpet"
           }
          ],
          "choropleth": [
           {
            "colorbar": {
             "outlinewidth": 0,
             "ticks": ""
            },
            "type": "choropleth"
           }
          ],
          "contour": [
           {
            "colorbar": {
             "outlinewidth": 0,
             "ticks": ""
            },
            "colorscale": [
             [
              0,
              "#0d0887"
             ],
             [
              0.1111111111111111,
              "#46039f"
             ],
             [
              0.2222222222222222,
              "#7201a8"
             ],
             [
              0.3333333333333333,
              "#9c179e"
             ],
             [
              0.4444444444444444,
              "#bd3786"
             ],
             [
              0.5555555555555556,
              "#d8576b"
             ],
             [
              0.6666666666666666,
              "#ed7953"
             ],
             [
              0.7777777777777778,
              "#fb9f3a"
             ],
             [
              0.8888888888888888,
              "#fdca26"
             ],
             [
              1,
              "#f0f921"
             ]
            ],
            "type": "contour"
           }
          ],
          "contourcarpet": [
           {
            "colorbar": {
             "outlinewidth": 0,
             "ticks": ""
            },
            "type": "contourcarpet"
           }
          ],
          "heatmap": [
           {
            "colorbar": {
             "outlinewidth": 0,
             "ticks": ""
            },
            "colorscale": [
             [
              0,
              "#0d0887"
             ],
             [
              0.1111111111111111,
              "#46039f"
             ],
             [
              0.2222222222222222,
              "#7201a8"
             ],
             [
              0.3333333333333333,
              "#9c179e"
             ],
             [
              0.4444444444444444,
              "#bd3786"
             ],
             [
              0.5555555555555556,
              "#d8576b"
             ],
             [
              0.6666666666666666,
              "#ed7953"
             ],
             [
              0.7777777777777778,
              "#fb9f3a"
             ],
             [
              0.8888888888888888,
              "#fdca26"
             ],
             [
              1,
              "#f0f921"
             ]
            ],
            "type": "heatmap"
           }
          ],
          "histogram": [
           {
            "marker": {
             "pattern": {
              "fillmode": "overlay",
              "size": 10,
              "solidity": 0.2
             }
            },
            "type": "histogram"
           }
          ],
          "histogram2d": [
           {
            "colorbar": {
             "outlinewidth": 0,
             "ticks": ""
            },
            "colorscale": [
             [
              0,
              "#0d0887"
             ],
             [
              0.1111111111111111,
              "#46039f"
             ],
             [
              0.2222222222222222,
              "#7201a8"
             ],
             [
              0.3333333333333333,
              "#9c179e"
             ],
             [
              0.4444444444444444,
              "#bd3786"
             ],
             [
              0.5555555555555556,
              "#d8576b"
             ],
             [
              0.6666666666666666,
              "#ed7953"
             ],
             [
              0.7777777777777778,
              "#fb9f3a"
             ],
             [
              0.8888888888888888,
              "#fdca26"
             ],
             [
              1,
              "#f0f921"
             ]
            ],
            "type": "histogram2d"
           }
          ],
          "histogram2dcontour": [
           {
            "colorbar": {
             "outlinewidth": 0,
             "ticks": ""
            },
            "colorscale": [
             [
              0,
              "#0d0887"
             ],
             [
              0.1111111111111111,
              "#46039f"
             ],
             [
              0.2222222222222222,
              "#7201a8"
             ],
             [
              0.3333333333333333,
              "#9c179e"
             ],
             [
              0.4444444444444444,
              "#bd3786"
             ],
             [
              0.5555555555555556,
              "#d8576b"
             ],
             [
              0.6666666666666666,
              "#ed7953"
             ],
             [
              0.7777777777777778,
              "#fb9f3a"
             ],
             [
              0.8888888888888888,
              "#fdca26"
             ],
             [
              1,
              "#f0f921"
             ]
            ],
            "type": "histogram2dcontour"
           }
          ],
          "mesh3d": [
           {
            "colorbar": {
             "outlinewidth": 0,
             "ticks": ""
            },
            "type": "mesh3d"
           }
          ],
          "parcoords": [
           {
            "line": {
             "colorbar": {
              "outlinewidth": 0,
              "ticks": ""
             }
            },
            "type": "parcoords"
           }
          ],
          "pie": [
           {
            "automargin": true,
            "type": "pie"
           }
          ],
          "scatter": [
           {
            "fillpattern": {
             "fillmode": "overlay",
             "size": 10,
             "solidity": 0.2
            },
            "type": "scatter"
           }
          ],
          "scatter3d": [
           {
            "line": {
             "colorbar": {
              "outlinewidth": 0,
              "ticks": ""
             }
            },
            "marker": {
             "colorbar": {
              "outlinewidth": 0,
              "ticks": ""
             }
            },
            "type": "scatter3d"
           }
          ],
          "scattercarpet": [
           {
            "marker": {
             "colorbar": {
              "outlinewidth": 0,
              "ticks": ""
             }
            },
            "type": "scattercarpet"
           }
          ],
          "scattergeo": [
           {
            "marker": {
             "colorbar": {
              "outlinewidth": 0,
              "ticks": ""
             }
            },
            "type": "scattergeo"
           }
          ],
          "scattergl": [
           {
            "marker": {
             "colorbar": {
              "outlinewidth": 0,
              "ticks": ""
             }
            },
            "type": "scattergl"
           }
          ],
          "scattermap": [
           {
            "marker": {
             "colorbar": {
              "outlinewidth": 0,
              "ticks": ""
             }
            },
            "type": "scattermap"
           }
          ],
          "scattermapbox": [
           {
            "marker": {
             "colorbar": {
              "outlinewidth": 0,
              "ticks": ""
             }
            },
            "type": "scattermapbox"
           }
          ],
          "scatterpolar": [
           {
            "marker": {
             "colorbar": {
              "outlinewidth": 0,
              "ticks": ""
             }
            },
            "type": "scatterpolar"
           }
          ],
          "scatterpolargl": [
           {
            "marker": {
             "colorbar": {
              "outlinewidth": 0,
              "ticks": ""
             }
            },
            "type": "scatterpolargl"
           }
          ],
          "scatterternary": [
           {
            "marker": {
             "colorbar": {
              "outlinewidth": 0,
              "ticks": ""
             }
            },
            "type": "scatterternary"
           }
          ],
          "surface": [
           {
            "colorbar": {
             "outlinewidth": 0,
             "ticks": ""
            },
            "colorscale": [
             [
              0,
              "#0d0887"
             ],
             [
              0.1111111111111111,
              "#46039f"
             ],
             [
              0.2222222222222222,
              "#7201a8"
             ],
             [
              0.3333333333333333,
              "#9c179e"
             ],
             [
              0.4444444444444444,
              "#bd3786"
             ],
             [
              0.5555555555555556,
              "#d8576b"
             ],
             [
              0.6666666666666666,
              "#ed7953"
             ],
             [
              0.7777777777777778,
              "#fb9f3a"
             ],
             [
              0.8888888888888888,
              "#fdca26"
             ],
             [
              1,
              "#f0f921"
             ]
            ],
            "type": "surface"
           }
          ],
          "table": [
           {
            "cells": {
             "fill": {
              "color": "#EBF0F8"
             },
             "line": {
              "color": "white"
             }
            },
            "header": {
             "fill": {
              "color": "#C8D4E3"
             },
             "line": {
              "color": "white"
             }
            },
            "type": "table"
           }
          ]
         },
         "layout": {
          "annotationdefaults": {
           "arrowcolor": "#2a3f5f",
           "arrowhead": 0,
           "arrowwidth": 1
          },
          "autotypenumbers": "strict",
          "coloraxis": {
           "colorbar": {
            "outlinewidth": 0,
            "ticks": ""
           }
          },
          "colorscale": {
           "diverging": [
            [
             0,
             "#8e0152"
            ],
            [
             0.1,
             "#c51b7d"
            ],
            [
             0.2,
             "#de77ae"
            ],
            [
             0.3,
             "#f1b6da"
            ],
            [
             0.4,
             "#fde0ef"
            ],
            [
             0.5,
             "#f7f7f7"
            ],
            [
             0.6,
             "#e6f5d0"
            ],
            [
             0.7,
             "#b8e186"
            ],
            [
             0.8,
             "#7fbc41"
            ],
            [
             0.9,
             "#4d9221"
            ],
            [
             1,
             "#276419"
            ]
           ],
           "sequential": [
            [
             0,
             "#0d0887"
            ],
            [
             0.1111111111111111,
             "#46039f"
            ],
            [
             0.2222222222222222,
             "#7201a8"
            ],
            [
             0.3333333333333333,
             "#9c179e"
            ],
            [
             0.4444444444444444,
             "#bd3786"
            ],
            [
             0.5555555555555556,
             "#d8576b"
            ],
            [
             0.6666666666666666,
             "#ed7953"
            ],
            [
             0.7777777777777778,
             "#fb9f3a"
            ],
            [
             0.8888888888888888,
             "#fdca26"
            ],
            [
             1,
             "#f0f921"
            ]
           ],
           "sequentialminus": [
            [
             0,
             "#0d0887"
            ],
            [
             0.1111111111111111,
             "#46039f"
            ],
            [
             0.2222222222222222,
             "#7201a8"
            ],
            [
             0.3333333333333333,
             "#9c179e"
            ],
            [
             0.4444444444444444,
             "#bd3786"
            ],
            [
             0.5555555555555556,
             "#d8576b"
            ],
            [
             0.6666666666666666,
             "#ed7953"
            ],
            [
             0.7777777777777778,
             "#fb9f3a"
            ],
            [
             0.8888888888888888,
             "#fdca26"
            ],
            [
             1,
             "#f0f921"
            ]
           ]
          },
          "colorway": [
           "#636efa",
           "#EF553B",
           "#00cc96",
           "#ab63fa",
           "#FFA15A",
           "#19d3f3",
           "#FF6692",
           "#B6E880",
           "#FF97FF",
           "#FECB52"
          ],
          "font": {
           "color": "#2a3f5f"
          },
          "geo": {
           "bgcolor": "white",
           "lakecolor": "white",
           "landcolor": "#E5ECF6",
           "showlakes": true,
           "showland": true,
           "subunitcolor": "white"
          },
          "hoverlabel": {
           "align": "left"
          },
          "hovermode": "closest",
          "mapbox": {
           "style": "light"
          },
          "paper_bgcolor": "white",
          "plot_bgcolor": "#E5ECF6",
          "polar": {
           "angularaxis": {
            "gridcolor": "white",
            "linecolor": "white",
            "ticks": ""
           },
           "bgcolor": "#E5ECF6",
           "radialaxis": {
            "gridcolor": "white",
            "linecolor": "white",
            "ticks": ""
           }
          },
          "scene": {
           "xaxis": {
            "backgroundcolor": "#E5ECF6",
            "gridcolor": "white",
            "gridwidth": 2,
            "linecolor": "white",
            "showbackground": true,
            "ticks": "",
            "zerolinecolor": "white"
           },
           "yaxis": {
            "backgroundcolor": "#E5ECF6",
            "gridcolor": "white",
            "gridwidth": 2,
            "linecolor": "white",
            "showbackground": true,
            "ticks": "",
            "zerolinecolor": "white"
           },
           "zaxis": {
            "backgroundcolor": "#E5ECF6",
            "gridcolor": "white",
            "gridwidth": 2,
            "linecolor": "white",
            "showbackground": true,
            "ticks": "",
            "zerolinecolor": "white"
           }
          },
          "shapedefaults": {
           "line": {
            "color": "#2a3f5f"
           }
          },
          "ternary": {
           "aaxis": {
            "gridcolor": "white",
            "linecolor": "white",
            "ticks": ""
           },
           "baxis": {
            "gridcolor": "white",
            "linecolor": "white",
            "ticks": ""
           },
           "bgcolor": "#E5ECF6",
           "caxis": {
            "gridcolor": "white",
            "linecolor": "white",
            "ticks": ""
           }
          },
          "title": {
           "x": 0.05
          },
          "xaxis": {
           "automargin": true,
           "gridcolor": "white",
           "linecolor": "white",
           "ticks": "",
           "title": {
            "standoff": 15
           },
           "zerolinecolor": "white",
           "zerolinewidth": 2
          },
          "yaxis": {
           "automargin": true,
           "gridcolor": "white",
           "linecolor": "white",
           "ticks": "",
           "title": {
            "standoff": 15
           },
           "zerolinecolor": "white",
           "zerolinewidth": 2
          }
         }
        },
        "width": 1200
       }
      }
     },
     "metadata": {},
     "output_type": "display_data"
    }
   ],
   "source": [
    "client.plot_candlestick(df3)"
   ]
  },
  {
   "cell_type": "markdown",
   "metadata": {},
   "source": [
    "### S"
   ]
  }
 ],
 "metadata": {
  "kernelspec": {
   "display_name": "Python 3",
   "language": "python",
   "name": "python3"
  },
  "language_info": {
   "codemirror_mode": {
    "name": "ipython",
    "version": 3
   },
   "file_extension": ".py",
   "mimetype": "text/x-python",
   "name": "python",
   "nbconvert_exporter": "python",
   "pygments_lexer": "ipython3",
   "version": "3.12.9"
  }
 },
 "nbformat": 4,
 "nbformat_minor": 2
}
