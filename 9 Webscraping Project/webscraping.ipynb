{
 "cells": [
  {
   "cell_type": "markdown",
   "metadata": {},
   "source": [
    "# Webscraping - Data Collection \n",
    "You can get any data directly from internet"
   ]
  },
  {
   "cell_type": "code",
   "execution_count": 1,
   "metadata": {},
   "outputs": [
    {
     "name": "stdout",
     "output_type": "stream",
     "text": [
      "Defaulting to user installation because normal site-packages is not writeable\n",
      "Requirement already satisfied: requests in c:\\users\\saurav mali\\appdata\\local\\packages\\pythonsoftwarefoundation.python.3.12_qbz5n2kfra8p0\\localcache\\local-packages\\python312\\site-packages (2.32.3)\n",
      "Requirement already satisfied: beautifulsoup4 in c:\\users\\saurav mali\\appdata\\local\\packages\\pythonsoftwarefoundation.python.3.12_qbz5n2kfra8p0\\localcache\\local-packages\\python312\\site-packages (4.13.3)\n",
      "Requirement already satisfied: lxml in c:\\users\\saurav mali\\appdata\\local\\packages\\pythonsoftwarefoundation.python.3.12_qbz5n2kfra8p0\\localcache\\local-packages\\python312\\site-packages (5.3.1)\n",
      "Requirement already satisfied: charset-normalizer<4,>=2 in c:\\users\\saurav mali\\appdata\\local\\packages\\pythonsoftwarefoundation.python.3.12_qbz5n2kfra8p0\\localcache\\local-packages\\python312\\site-packages (from requests) (3.4.1)\n",
      "Requirement already satisfied: idna<4,>=2.5 in c:\\users\\saurav mali\\appdata\\local\\packages\\pythonsoftwarefoundation.python.3.12_qbz5n2kfra8p0\\localcache\\local-packages\\python312\\site-packages (from requests) (3.10)\n",
      "Requirement already satisfied: urllib3<3,>=1.21.1 in c:\\users\\saurav mali\\appdata\\local\\packages\\pythonsoftwarefoundation.python.3.12_qbz5n2kfra8p0\\localcache\\local-packages\\python312\\site-packages (from requests) (2.3.0)\n",
      "Requirement already satisfied: certifi>=2017.4.17 in c:\\users\\saurav mali\\appdata\\local\\packages\\pythonsoftwarefoundation.python.3.12_qbz5n2kfra8p0\\localcache\\local-packages\\python312\\site-packages (from requests) (2025.1.31)\n",
      "Requirement already satisfied: soupsieve>1.2 in c:\\users\\saurav mali\\appdata\\local\\packages\\pythonsoftwarefoundation.python.3.12_qbz5n2kfra8p0\\localcache\\local-packages\\python312\\site-packages (from beautifulsoup4) (2.6)\n",
      "Requirement already satisfied: typing-extensions>=4.0.0 in c:\\users\\saurav mali\\appdata\\local\\packages\\pythonsoftwarefoundation.python.3.12_qbz5n2kfra8p0\\localcache\\local-packages\\python312\\site-packages (from beautifulsoup4) (4.12.2)\n",
      "Note: you may need to restart the kernel to use updated packages.\n"
     ]
    },
    {
     "name": "stderr",
     "output_type": "stream",
     "text": [
      "\n",
      "[notice] A new release of pip is available: 24.3.1 -> 25.0\n",
      "[notice] To update, run: C:\\Users\\Saurav Mali\\AppData\\Local\\Microsoft\\WindowsApps\\PythonSoftwareFoundation.Python.3.12_qbz5n2kfra8p0\\python.exe -m pip install --upgrade pip\n"
     ]
    }
   ],
   "source": [
    "%pip install requests beautifulsoup4 lxml"
   ]
  },
  {
   "cell_type": "code",
   "execution_count": 2,
   "metadata": {},
   "outputs": [],
   "source": [
    "from warnings import filterwarnings\n",
    "filterwarnings(\"ignore\")"
   ]
  },
  {
   "cell_type": "markdown",
   "metadata": {},
   "source": [
    "### Get the head title for any web page"
   ]
  },
  {
   "cell_type": "code",
   "execution_count": 3,
   "metadata": {},
   "outputs": [
    {
     "name": "stdout",
     "output_type": "stream",
     "text": [
      "https://en.wikipedia.org/wiki/World_population\n"
     ]
    }
   ],
   "source": [
    "url1 = \"https://en.wikipedia.org/wiki/World_population\"\n",
    "print(url1)"
   ]
  },
  {
   "cell_type": "code",
   "execution_count": 4,
   "metadata": {},
   "outputs": [
    {
     "data": {
      "text/plain": [
       "<Response [200]>"
      ]
     },
     "execution_count": 4,
     "metadata": {},
     "output_type": "execute_result"
    }
   ],
   "source": [
    "import requests\n",
    "\n",
    "response = requests.get(url1)\n",
    "\n",
    "response"
   ]
  },
  {
   "cell_type": "markdown",
   "metadata": {},
   "source": [
    "### 200 - ok all the data is collected"
   ]
  },
  {
   "cell_type": "code",
   "execution_count": 6,
   "metadata": {},
   "outputs": [
    {
     "name": "stdout",
     "output_type": "stream",
     "text": [
      "b'<!DOCTYPE html>\\n<html class=\"client-nojs vector-feature-language-in-header-enabled vector-feature-language-in-main-page-header-disabled vector-feature-page-tools-pinned-disabled vector-feature-toc-pinned-clientpref-1 vector-feature-main-menu-pinned-disabled vector-feature-limited-width-clientpref-1 vector-feature-limited-width-content-enabled vector-feature-custom-font-size-clientpref-1 vector-feature-appearance-pinned-clientpref-1 vector-feature-night-mode-enabled skin-theme-clientpref-day vector-sticky-header-enabled vector-toc-available\" lang=\"en\" dir=\"ltr\">\\n<head>\\n<meta charset=\"UTF-8\">\\n<title>World population - Wikipedia</title>\\n<script>(function(){var className=\"client-js vector-feature-language-in-header-enabled vector-feature-language-in-main-page-header-disabled vector-feature-page-tools-pinned-disabled vector-feature-toc-pinned-clientpref-1 vector-feature-main-menu-pinned-disabled vector-feature-limited-width-clientpref-1 vector-feature-limited-width-content-enabled vector-fe'\n"
     ]
    }
   ],
   "source": [
    "data = response.content\n",
    "\n",
    "print(data[0:1000])"
   ]
  },
  {
   "cell_type": "markdown",
   "metadata": {},
   "source": [
    "### Get the title with beautiful soup package"
   ]
  },
  {
   "cell_type": "code",
   "execution_count": 8,
   "metadata": {},
   "outputs": [],
   "source": [
    "from bs4 import BeautifulSoup\n",
    "\n",
    "soup = BeautifulSoup(data)\n",
    "\n"
   ]
  },
  {
   "cell_type": "code",
   "execution_count": 9,
   "metadata": {},
   "outputs": [
    {
     "data": {
      "text/plain": [
       "<title>World population - Wikipedia</title>"
      ]
     },
     "execution_count": 9,
     "metadata": {},
     "output_type": "execute_result"
    }
   ],
   "source": [
    "soup.find(\"title\")"
   ]
  },
  {
   "cell_type": "code",
   "execution_count": 10,
   "metadata": {},
   "outputs": [
    {
     "data": {
      "text/plain": [
       "<title>World population - Wikipedia</title>"
      ]
     },
     "execution_count": 10,
     "metadata": {},
     "output_type": "execute_result"
    }
   ],
   "source": [
    "title_tag = soup.find(\"title\")\n",
    "title_tag"
   ]
  },
  {
   "cell_type": "code",
   "execution_count": 12,
   "metadata": {},
   "outputs": [
    {
     "data": {
      "text/plain": [
       "'World population - Wikipedia'"
      ]
     },
     "execution_count": 12,
     "metadata": {},
     "output_type": "execute_result"
    }
   ],
   "source": [
    "title_text = title_tag.text\n",
    "title_text"
   ]
  },
  {
   "cell_type": "markdown",
   "metadata": {},
   "source": [
    "### Find out h1 tag from body"
   ]
  },
  {
   "cell_type": "code",
   "execution_count": 13,
   "metadata": {},
   "outputs": [
    {
     "data": {
      "text/plain": [
       "<h1 class=\"firstHeading mw-first-heading\" id=\"firstHeading\"><span class=\"mw-page-title-main\">World population</span></h1>"
      ]
     },
     "execution_count": 13,
     "metadata": {},
     "output_type": "execute_result"
    }
   ],
   "source": [
    "h1_tag = soup.find(\"h1\", class_ =\"firstHeading\")\n",
    "h1_tag"
   ]
  },
  {
   "cell_type": "code",
   "execution_count": 14,
   "metadata": {},
   "outputs": [
    {
     "data": {
      "text/plain": [
       "'World population'"
      ]
     },
     "execution_count": 14,
     "metadata": {},
     "output_type": "execute_result"
    }
   ],
   "source": [
    "h1_text = h1_tag.text\n",
    "h1_text"
   ]
  },
  {
   "cell_type": "markdown",
   "metadata": {},
   "source": [
    "###  Get all the h2 tag\n"
   ]
  },
  {
   "cell_type": "code",
   "execution_count": 17,
   "metadata": {},
   "outputs": [
    {
     "data": {
      "text/plain": [
       "[<div class=\"mw-heading mw-heading2\"><h2 id=\"History\">History</h2></div>,\n",
       " <div class=\"mw-heading mw-heading3\"><h3 id=\"Ancient_and_post-classical_history\">Ancient and post-classical history</h3></div>,\n",
       " <div class=\"mw-heading mw-heading3\"><h3 id=\"Modern_history\">Modern history</h3></div>,\n",
       " <div class=\"mw-heading mw-heading3\"><h3 id=\"Milestones_by_the_billions\">Milestones by the billions</h3></div>,\n",
       " <div class=\"mw-heading mw-heading2\"><h2 id=\"Global_demographics\">Global demographics</h2></div>,\n",
       " <div class=\"mw-heading mw-heading2\"><h2 id=\"Population_by_region\">Population by region</h2></div>,\n",
       " <div class=\"mw-heading mw-heading2\"><h2 id=\"Largest_populations_by_country\">Largest populations by country</h2></div>,\n",
       " <div class=\"mw-heading mw-heading3\"><h3 id=\"Ten_most_populous_countries\">Ten most populous countries</h3></div>,\n",
       " <div class=\"mw-heading mw-heading3\"><h3 id=\"Most_densely_populated_countries\">Most densely populated countries</h3></div>,\n",
       " <div class=\"mw-heading mw-heading2\"><h2 id=\"Fluctuation\">Fluctuation</h2></div>,\n",
       " <div class=\"mw-heading mw-heading3\"><h3 id=\"Annual_population_growth\">Annual population growth</h3></div>,\n",
       " <div class=\"mw-heading mw-heading3\"><h3 id=\"Population_growth_by_region\">Population growth by region</h3></div>,\n",
       " <div class=\"mw-heading mw-heading3\"><h3 id=\"Past_population\">Past population</h3></div>,\n",
       " <div class=\"mw-heading mw-heading3\"><h3 id=\"Projections\">Projections</h3></div>,\n",
       " <div class=\"mw-heading mw-heading2\"><h2 id=\"Mathematical_approximations\">Mathematical approximations</h2></div>,\n",
       " <div class=\"mw-heading mw-heading3\"><h3 id=\"Years_for_world_population_to_double\">Years for world population to double</h3></div>,\n",
       " <div class=\"mw-heading mw-heading2\"><h2 id=\"Number_of_humans_who_have_ever_lived\">Number of humans who have ever lived</h2></div>,\n",
       " <div class=\"mw-heading mw-heading2\"><h2 id=\"Human_population_as_a_function_of_food_availability\">Human population as a function of food availability</h2></div>,\n",
       " <div class=\"mw-heading mw-heading2\"><h2 id=\"See_also\">See also</h2></div>,\n",
       " <div class=\"mw-heading mw-heading2\"><h2 id=\"Explanatory_notes\">Explanatory notes</h2></div>,\n",
       " <div class=\"mw-heading mw-heading2\"><h2 id=\"References\">References</h2></div>,\n",
       " <div class=\"mw-heading mw-heading3\"><h3 id=\"Citations\">Citations</h3></div>,\n",
       " <div class=\"mw-heading mw-heading3\"><h3 id=\"General_and_cited_sources\">General and cited sources</h3></div>,\n",
       " <div class=\"mw-heading mw-heading2\"><h2 id=\"Further_reading\">Further reading</h2></div>,\n",
       " <div class=\"mw-heading mw-heading2\"><h2 id=\"External_links\">External links</h2></div>]"
      ]
     },
     "execution_count": 17,
     "metadata": {},
     "output_type": "execute_result"
    }
   ],
   "source": [
    "heading_divs = soup.find_all(\"div\", class_ = \"mw-heading\")\n",
    "\n",
    "heading_divs"
   ]
  },
  {
   "cell_type": "code",
   "execution_count": 20,
   "metadata": {},
   "outputs": [
    {
     "data": {
      "text/plain": [
       "'History'"
      ]
     },
     "execution_count": 20,
     "metadata": {},
     "output_type": "execute_result"
    }
   ],
   "source": [
    "heading_divs[0].find(\"h2\").text"
   ]
  },
  {
   "cell_type": "code",
   "execution_count": 24,
   "metadata": {},
   "outputs": [
    {
     "data": {
      "text/plain": [
       "[<h2 id=\"History\">History</h2>,\n",
       " None,\n",
       " None,\n",
       " None,\n",
       " <h2 id=\"Global_demographics\">Global demographics</h2>,\n",
       " <h2 id=\"Population_by_region\">Population by region</h2>,\n",
       " <h2 id=\"Largest_populations_by_country\">Largest populations by country</h2>,\n",
       " None,\n",
       " None,\n",
       " <h2 id=\"Fluctuation\">Fluctuation</h2>,\n",
       " None,\n",
       " None,\n",
       " None,\n",
       " None,\n",
       " <h2 id=\"Mathematical_approximations\">Mathematical approximations</h2>,\n",
       " None,\n",
       " <h2 id=\"Number_of_humans_who_have_ever_lived\">Number of humans who have ever lived</h2>,\n",
       " <h2 id=\"Human_population_as_a_function_of_food_availability\">Human population as a function of food availability</h2>,\n",
       " <h2 id=\"See_also\">See also</h2>,\n",
       " <h2 id=\"Explanatory_notes\">Explanatory notes</h2>,\n",
       " <h2 id=\"References\">References</h2>,\n",
       " None,\n",
       " None,\n",
       " <h2 id=\"Further_reading\">Further reading</h2>,\n",
       " <h2 id=\"External_links\">External links</h2>]"
      ]
     },
     "execution_count": 24,
     "metadata": {},
     "output_type": "execute_result"
    }
   ],
   "source": [
    "h2_tags = [tag.find(\"h2\") for tag in heading_divs]\n",
    "\n",
    "h2_tags"
   ]
  },
  {
   "cell_type": "code",
   "execution_count": 23,
   "metadata": {},
   "outputs": [
    {
     "data": {
      "text/plain": [
       "['History',\n",
       " 'Ancient and post-classical history',\n",
       " 'Modern history',\n",
       " 'Milestones by the billions',\n",
       " 'Global demographics',\n",
       " 'Population by region',\n",
       " 'Largest populations by country',\n",
       " 'Ten most populous countries',\n",
       " 'Most densely populated countries',\n",
       " 'Fluctuation',\n",
       " 'Annual population growth',\n",
       " 'Population growth by region',\n",
       " 'Past population',\n",
       " 'Projections',\n",
       " 'Mathematical approximations',\n",
       " 'Years for world population to double',\n",
       " 'Number of humans who have ever lived',\n",
       " 'Human population as a function of food availability',\n",
       " 'See also',\n",
       " 'Explanatory notes',\n",
       " 'References',\n",
       " 'Citations',\n",
       " 'General and cited sources',\n",
       " 'Further reading',\n",
       " 'External links']"
      ]
     },
     "execution_count": 23,
     "metadata": {},
     "output_type": "execute_result"
    }
   ],
   "source": [
    "heading_text = [tag.text for tag in heading_divs]\n",
    "\n",
    "heading_text"
   ]
  },
  {
   "cell_type": "code",
   "execution_count": null,
   "metadata": {},
   "outputs": [],
   "source": []
  }
 ],
 "metadata": {
  "kernelspec": {
   "display_name": "Python 3",
   "language": "python",
   "name": "python3"
  },
  "language_info": {
   "codemirror_mode": {
    "name": "ipython",
    "version": 3
   },
   "file_extension": ".py",
   "mimetype": "text/x-python",
   "name": "python",
   "nbconvert_exporter": "python",
   "pygments_lexer": "ipython3",
   "version": "3.12.9"
  }
 },
 "nbformat": 4,
 "nbformat_minor": 2
}
